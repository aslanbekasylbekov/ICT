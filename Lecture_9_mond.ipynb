{
 "cells": [
  {
   "cell_type": "markdown",
   "metadata": {},
   "source": [
    "# Lecture 9: Machine Learning"
   ]
  },
  {
   "cell_type": "code",
   "execution_count": 2,
   "metadata": {},
   "outputs": [
    {
     "name": "stdout",
     "output_type": "stream",
     "text": [
      "Requirement already satisfied: numpy in c:\\users\\chard\\anaconda3\\lib\\site-packages (1.23.3)Note: you may need to restart the kernel to use updated packages.\n",
      "\n"
     ]
    }
   ],
   "source": [
    "pip install numpy"
   ]
  },
  {
   "cell_type": "code",
   "execution_count": 3,
   "metadata": {},
   "outputs": [
    {
     "name": "stdout",
     "output_type": "stream",
     "text": [
      "Requirement already satisfied: scikit-learn in c:\\users\\chard\\anaconda3\\lib\\site-packages (0.23.1)\n",
      "Requirement already satisfied: scipy>=0.19.1 in c:\\users\\chard\\anaconda3\\lib\\site-packages (from scikit-learn) (1.5.0)\n",
      "Requirement already satisfied: joblib>=0.11 in c:\\users\\chard\\anaconda3\\lib\\site-packages (from scikit-learn) (0.16.0)\n",
      "Requirement already satisfied: numpy>=1.13.3 in c:\\users\\chard\\anaconda3\\lib\\site-packages (from scikit-learn) (1.23.3)\n",
      "Requirement already satisfied: threadpoolctl>=2.0.0 in c:\\users\\chard\\anaconda3\\lib\\site-packages (from scikit-learn) (2.1.0)\n",
      "Note: you may need to restart the kernel to use updated packages.\n"
     ]
    }
   ],
   "source": [
    "pip install scikit-learn"
   ]
  },
  {
   "cell_type": "code",
   "execution_count": 4,
   "metadata": {},
   "outputs": [],
   "source": [
    "#import the packages (numpy and linear_model from scikit)\n",
    "import numpy as np\n",
    "import sklearn.linear_model as skmod"
   ]
  },
  {
   "cell_type": "markdown",
   "metadata": {},
   "source": [
    "## Introduction to numpy"
   ]
  },
  {
   "cell_type": "code",
   "execution_count": 7,
   "metadata": {},
   "outputs": [
    {
     "name": "stdout",
     "output_type": "stream",
     "text": [
      "[1, 2, 3, 4, 5]\n",
      "[1 2 3 4 5]\n"
     ]
    }
   ],
   "source": [
    "#Create your fisrt numpy array in 1 dimension\n",
    "list_ = [1,2,3,4,5]\n",
    "print(list_)\n",
    "arr = np.array([1,2,3,4,5])\n",
    "print(arr)"
   ]
  },
  {
   "cell_type": "code",
   "execution_count": 8,
   "metadata": {},
   "outputs": [
    {
     "name": "stdout",
     "output_type": "stream",
     "text": [
      "[[1 2 3]\n",
      " [4 5 6]]\n"
     ]
    }
   ],
   "source": [
    "#Create your first 2 dimensionnal arry\n",
    "arr = np.array([[1,2,3], [4,5,6]])\n",
    "print(arr)"
   ]
  },
  {
   "cell_type": "code",
   "execution_count": 9,
   "metadata": {},
   "outputs": [
    {
     "name": "stdout",
     "output_type": "stream",
     "text": [
      "3\n"
     ]
    }
   ],
   "source": [
    "#getting access to numpy array items\n",
    "print(arr[0][2])"
   ]
  },
  {
   "cell_type": "code",
   "execution_count": 12,
   "metadata": {},
   "outputs": [
    {
     "name": "stdout",
     "output_type": "stream",
     "text": [
      "[25, 2, 3]\n",
      "[1, 2, 3]\n"
     ]
    }
   ],
   "source": [
    "#the copy and the view\n",
    "list1 = [1,2,3]\n",
    "list2 = list1.copy()\n",
    "list2[0] = 25\n",
    "print(list2)\n",
    "print(list1)"
   ]
  },
  {
   "cell_type": "code",
   "execution_count": 16,
   "metadata": {},
   "outputs": [
    {
     "name": "stdout",
     "output_type": "stream",
     "text": [
      "[25  2  3  4  5]\n",
      "[25  2  3  4  5]\n",
      "[100   2   3   4   5]\n"
     ]
    }
   ],
   "source": [
    "#the copy and the view\n",
    "arr1 = np.array([1,2,3,4,5])\n",
    "arr2 = arr1.view()\n",
    "arr3 = arr1.copy()\n",
    "arr2[0] = 25\n",
    "arr3[0] = 100\n",
    "print(arr1)\n",
    "print(arr2)\n",
    "print(arr3)"
   ]
  },
  {
   "cell_type": "code",
   "execution_count": 18,
   "metadata": {},
   "outputs": [
    {
     "name": "stdout",
     "output_type": "stream",
     "text": [
      "(2, 3)\n",
      "[[1 2 3]\n",
      " [4 5 6]]\n"
     ]
    }
   ],
   "source": [
    "#The shape of an array\n",
    "arr = np.array([[1,2,3], [4,5,6]])\n",
    "print(arr.shape)\n",
    "print(arr)"
   ]
  },
  {
   "cell_type": "code",
   "execution_count": 24,
   "metadata": {},
   "outputs": [
    {
     "name": "stdout",
     "output_type": "stream",
     "text": [
      "(6,)\n",
      "[1 2 3 4 5 6]\n",
      "(3, 2)\n",
      "[[1 2]\n",
      " [3 4]\n",
      " [5 6]]\n"
     ]
    }
   ],
   "source": [
    "#reshape your array from 1D to 2D\n",
    "arr1 = np.array([1,2,3,4,5,6])\n",
    "print(arr1.shape)\n",
    "print(arr1)\n",
    "arr1 = arr1.reshape((3,2))\n",
    "print(arr1.shape)\n",
    "print(arr1)"
   ]
  },
  {
   "cell_type": "code",
   "execution_count": 27,
   "metadata": {
    "scrolled": true
   },
   "outputs": [
    {
     "name": "stdout",
     "output_type": "stream",
     "text": [
      "(6,)\n",
      "[1 2 3 4 5 6]\n",
      "(3, 2)\n",
      "[[1 2]\n",
      " [3 4]\n",
      " [5 6]]\n"
     ]
    }
   ],
   "source": [
    "#reshape your array from 1D to another D (with -1)\n",
    "arr1 = np.array([1,2,3,4,5,6])\n",
    "print(arr1.shape)\n",
    "print(arr1)\n",
    "arr1 = arr1.reshape((-1,2))\n",
    "print(arr1.shape)\n",
    "print(arr1)"
   ]
  },
  {
   "cell_type": "code",
   "execution_count": 28,
   "metadata": {},
   "outputs": [
    {
     "name": "stdout",
     "output_type": "stream",
     "text": [
      "(6,)\n",
      "[1 2 3 4 5 6]\n",
      "(6, 1)\n",
      "[[1]\n",
      " [2]\n",
      " [3]\n",
      " [4]\n",
      " [5]\n",
      " [6]]\n"
     ]
    }
   ],
   "source": [
    "#from line to column\n",
    "arr1 = np.array([1,2,3,4,5,6])\n",
    "print(arr1.shape)\n",
    "print(arr1)\n",
    "arr1 = arr1.reshape((-1,1))\n",
    "print(arr1.shape)\n",
    "print(arr1)"
   ]
  },
  {
   "cell_type": "code",
   "execution_count": 32,
   "metadata": {},
   "outputs": [
    {
     "name": "stdout",
     "output_type": "stream",
     "text": [
      "[3 4 5]\n",
      "[2 4 6]\n"
     ]
    }
   ],
   "source": [
    "#The avantage of numpy, the use of array for addition or multiplication for example\n",
    "l1 = [1,2,3]\n",
    "l1 = np.array(l1)\n",
    "print(l1 + 2)\n",
    "#\n",
    "l1 = [1,2,3]\n",
    "l1 = np.array(l1)\n",
    "print(l1 * 2)"
   ]
  },
  {
   "cell_type": "code",
   "execution_count": 33,
   "metadata": {},
   "outputs": [
    {
     "name": "stdout",
     "output_type": "stream",
     "text": [
      "[[ 1  5]\n",
      " [ 9 31]\n",
      " [45 78]]\n"
     ]
    }
   ],
   "source": [
    "#YOUR TURN (5 minutes)\n",
    "#Change this array [1,5,9,31,45,78]\n",
    "#into this one:\n",
    "#[[1,5],\n",
    "#[9,31],\n",
    "#[45,78]]\n",
    "#It should be a copy not a view\n",
    "arr = np.array([1,5,9,31,45,78])\n",
    "arr = arr.reshape((3,2))\n",
    "print(arr)"
   ]
  },
  {
   "cell_type": "markdown",
   "metadata": {},
   "source": [
    "## The linear regression"
   ]
  },
  {
   "cell_type": "code",
   "execution_count": 38,
   "metadata": {},
   "outputs": [
    {
     "name": "stdout",
     "output_type": "stream",
     "text": [
      "[1, 2.1, 3.5, 3.9, 5.3, 6]\n",
      "[1.  2.1 3.5 3.9 5.3 6. ]\n",
      "[[1. ]\n",
      " [2.1]\n",
      " [3.5]\n",
      " [3.9]\n",
      " [5.3]\n",
      " [6. ]]\n",
      "[8, 9, 10, 11, 12, 13]\n",
      "[ 8  9 10 11 12 13]\n",
      "[[ 8]\n",
      " [ 9]\n",
      " [10]\n",
      " [11]\n",
      " [12]\n",
      " [13]]\n"
     ]
    }
   ],
   "source": [
    "#Transformation of data in the requiered array for scikit-learn\n",
    "x = [1, 2.1, 3.5, 3.9, 5.3, 6]\n",
    "print(x)\n",
    "x = np.array(x)\n",
    "print(x)\n",
    "x = x.reshape((-1,1))\n",
    "print(x)\n",
    "\n",
    "y = [8,9,10,11,12,13]\n",
    "print(y)\n",
    "y = np.array(y)\n",
    "print(y)\n",
    "y = y.reshape((-1,1))\n",
    "print(y)"
   ]
  },
  {
   "cell_type": "code",
   "execution_count": 37,
   "metadata": {},
   "outputs": [],
   "source": [
    "#Create a linear regression model: LinearRegression()\n",
    "model = skmod.LinearRegression()"
   ]
  },
  {
   "cell_type": "code",
   "execution_count": null,
   "metadata": {},
   "outputs": [],
   "source": [
    "#some parameters than you can change:\n",
    "#fit_intercept (consider b=0 if False, default is True)"
   ]
  },
  {
   "cell_type": "code",
   "execution_count": 39,
   "metadata": {},
   "outputs": [],
   "source": [
    "#Train your model\n",
    "model_trained = model.fit(x, y)"
   ]
  },
  {
   "cell_type": "code",
   "execution_count": 42,
   "metadata": {},
   "outputs": [
    {
     "name": "stdout",
     "output_type": "stream",
     "text": [
      "[6.91851296]\n",
      "[[0.98573038]]\n",
      "0.9857303792714982\n"
     ]
    }
   ],
   "source": [
    "#get the result: the intercept (b)(.intercept_), the coeff (w1)(.coef_) and the R2 (.score(x, y))\n",
    "#get b value\n",
    "print(model.intercept_)\n",
    "#get the coef : the w1 value\n",
    "print(model.coef_)\n",
    "#get the accuracy with R2\n",
    "print(model.score(x, y))"
   ]
  },
  {
   "cell_type": "code",
   "execution_count": 44,
   "metadata": {},
   "outputs": [
    {
     "data": {
      "text/plain": [
       "[<matplotlib.lines.Line2D at 0x21046835fd0>]"
      ]
     },
     "execution_count": 44,
     "metadata": {},
     "output_type": "execute_result"
    },
    {
     "data": {
      "image/png": "[encoded data removed]",
      "text/plain": [
       "<Figure size 432x288 with 1 Axes>"
      ]
     },
     "metadata": {
      "needs_background": "light"
     },
     "output_type": "display_data"
    }
   ],
   "source": [
    "import matplotlib.pyplot as plt\n",
    "plt.scatter(x, y)\n",
    "x_model = [0, 6]\n",
    "y_model = [0.98573038 * 0 + 6.91851296, 0.98573038 * 6 + 6.91851296]\n",
    "plt.plot(x_model, y_model)"
   ]
  },
  {
   "cell_type": "code",
   "execution_count": 46,
   "metadata": {},
   "outputs": [
    {
     "name": "stdout",
     "output_type": "stream",
     "text": [
      "[[ 6.91851296]\n",
      " [12.83289523]]\n"
     ]
    }
   ],
   "source": [
    "#Now use your model to predict data (.predict(x))\n",
    "x_model = np.array([0,6]).reshape(-1,1)\n",
    "print(model.predict(x_model))"
   ]
  },
  {
   "cell_type": "code",
   "execution_count": 47,
   "metadata": {},
   "outputs": [
    {
     "name": "stdout",
     "output_type": "stream",
     "text": [
      "[6.91851296, 12.83289524]\n"
     ]
    }
   ],
   "source": [
    "#Predict the result without predict but with intercept and coeff\n",
    "x_model = [0, 6]\n",
    "y_model = [0.98573038 * 0 + 6.91851296, 0.98573038 * 6 + 6.91851296]\n",
    "print(y_model)"
   ]
  }
 ],
 "metadata": {
  "kernelspec": {
   "display_name": "Python 3",
   "language": "python",
   "name": "python3"
  },
  "language_info": {
   "codemirror_mode": {
    "name": "ipython",
    "version": 3
   },
   "file_extension": ".py",
   "mimetype": "text/x-python",
   "name": "python",
   "nbconvert_exporter": "python",
   "pygments_lexer": "ipython3",
   "version": "3.9.10 (tags/v3.9.10:f2f3f53, Jan 17 2022, 15:14:21) [MSC v.1929 64 bit (AMD64)]"
  },
  "vscode": {
   "interpreter": {
    "hash": "fbe58ca63fe33f9eeae9e71d10368d2b4a57f2b1b395836210cc60d362c66949"
   }
  }
 },
 "nbformat": 4,
 "nbformat_minor": 4
}
