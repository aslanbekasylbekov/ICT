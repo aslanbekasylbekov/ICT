{
 "cells": [
  {
   "cell_type": "markdown",
   "metadata": {},
   "source": [
    "# Correction of practice 10"
   ]
  },
  {
   "cell_type": "code",
   "execution_count": null,
   "metadata": {},
   "outputs": [],
   "source": [
    "import numpy as np\n",
    "import sklearn.linear_model as skmod"
   ]
  },
  {
   "cell_type": "code",
   "execution_count": null,
   "metadata": {},
   "outputs": [],
   "source": [
    "#data\n",
    "x= [6,10,2,3,4,0,7,8,9,1]\n",
    "y = [130,21,43,76,105,3,167,162,91,15]"
   ]
  },
  {
   "cell_type": "code",
   "execution_count": null,
   "metadata": {},
   "outputs": [],
   "source": [
    "#arrays\n",
    "arr_x = np.array(x).reshape(-1,1)\n",
    "arr_y = np.array(y).reshape(-1,1)\n",
    "print(arr_x)\n",
    "print(arr_y)"
   ]
  },
  {
   "cell_type": "code",
   "execution_count": null,
   "metadata": {
    "scrolled": true
   },
   "outputs": [],
   "source": [
    "#square and cube\n",
    "arr_x2 = arr_x **2\n",
    "arr_x3 = arr_x **3\n",
    "print(arr_x3)"
   ]
  },
  {
   "cell_type": "code",
   "execution_count": null,
   "metadata": {},
   "outputs": [],
   "source": [
    "#Linear model\n",
    "\n",
    "model = skmod.LinearRegression()\n",
    "model = model.fit(arr_x, arr_y)\n",
    "print(f\"y' = {model.coef_[0][0]}*x + {model.intercept_[0]}\")"
   ]
  },
  {
   "cell_type": "code",
   "execution_count": null,
   "metadata": {
    "scrolled": true
   },
   "outputs": [],
   "source": [
    "#Polynomial model degree 2 \n",
    "arr_x12 = np.hstack([arr_x, arr_x2])\n",
    "print(arr_x12)\n",
    "model2 = skmod.LinearRegression()\n",
    "model2 = model2.fit(arr_x12, arr_y)\n",
    "print(\" y' = {:.2f}x + {:.2f}*x**2 + {:.2f}\".format(model2.coef_[0][0], model2.coef_[0][1], model2.intercept_[0]))"
   ]
  },
  {
   "cell_type": "code",
   "execution_count": null,
   "metadata": {},
   "outputs": [],
   "source": [
    "#Polynomial model degree 3\n",
    "arr_x123 = np.hstack([arr_x, arr_x2, arr_x3])\n",
    "print(arr_x123)\n",
    "model2 = skmod.LinearRegression()\n",
    "model2 = model2.fit(arr_x123, arr_y)\n",
    "print(\" y' = {:.2f}x + {:.2f}*x**2 + {:.2f}*x**3 + {:.2f}\".format(model2.coef_[0][0], model2.coef_[0][1], model2.coef_[0][2], model2.intercept_[0]))"
   ]
  },
  {
   "cell_type": "code",
   "execution_count": null,
   "metadata": {},
   "outputs": [],
   "source": [
    "degree = 5"
   ]
  },
  {
   "cell_type": "markdown",
   "metadata": {},
   "source": [
    "# Lecture 11: Machine Learning III"
   ]
  },
  {
   "cell_type": "code",
   "execution_count": 11,
   "metadata": {},
   "outputs": [],
   "source": [
    "#import some package\n",
    "import sklearn.linear_model as skmod\n",
    "import sklearn.preprocessing as skprepro\n",
    "import numpy as np\n",
    "import matplotlib.pyplot as plt\n",
    "import sklearn.model_selection"
   ]
  },
  {
   "cell_type": "markdown",
   "metadata": {},
   "source": [
    "## The polynomial features object"
   ]
  },
  {
   "cell_type": "code",
   "execution_count": 2,
   "metadata": {},
   "outputs": [
    {
     "name": "stdout",
     "output_type": "stream",
     "text": [
      "[[1]\n",
      " [2]\n",
      " [3]\n",
      " [4]\n",
      " [5]\n",
      " [6]]\n"
     ]
    }
   ],
   "source": [
    "#Create data and reshape it\n",
    "x = [1, 2, 3, 4, 5, 6]\n",
    "x = np.array(x).reshape(-1,1)\n",
    "print(x)"
   ]
  },
  {
   "cell_type": "code",
   "execution_count": 3,
   "metadata": {},
   "outputs": [],
   "source": [
    "#Create the polynomial feature object from the preprocessing module\n",
    "#PolynomialFeatures() function\n",
    "#choose the degree and don't include bias\n",
    "poly2 = skprepro.PolynomialFeatures(2, include_bias = False)"
   ]
  },
  {
   "cell_type": "code",
   "execution_count": 5,
   "metadata": {
    "scrolled": false
   },
   "outputs": [
    {
     "name": "stdout",
     "output_type": "stream",
     "text": [
      "[[ 1.  1.]\n",
      " [ 2.  4.]\n",
      " [ 3.  9.]\n",
      " [ 4. 16.]\n",
      " [ 5. 25.]\n",
      " [ 6. 36.]]\n"
     ]
    }
   ],
   "source": [
    "#Transform your data into features of degree two, fit_transform() function\n",
    "x = poly2.fit_transform(x)\n",
    "print(x)"
   ]
  },
  {
   "cell_type": "code",
   "execution_count": 12,
   "metadata": {},
   "outputs": [
    {
     "name": "stdout",
     "output_type": "stream",
     "text": [
      "[[49.10205127]]\n"
     ]
    },
    {
     "data": {
      "text/plain": [
       "[<matplotlib.lines.Line2D at 0x1de542dba90>]"
      ]
     },
     "execution_count": 12,
     "metadata": {},
     "output_type": "execute_result"
    },
    {
     "data": {
      "image/png": "[encoded data removed]",
      "text/plain": [
       "<Figure size 432x288 with 1 Axes>"
      ]
     },
     "metadata": {
      "needs_background": "light"
     },
     "output_type": "display_data"
    }
   ],
   "source": [
    "#Your turn (10 minutes) 17:40\n",
    "#From the data of practice, make a polynomial regression of degree 4\n",
    "#print the prediction of the model for x = 2.2\n",
    "x= [6,10,2,3,4,0,7,8,9,1]\n",
    "y = [130,21,43,76,105,3,167,162,91,15]\n",
    "x = np.array(x).reshape(-1,1)\n",
    "y = np.array(y).reshape(-1,1)\n",
    "poly2 = skprepro.PolynomialFeatures(4, include_bias = False)\n",
    "model = skmod.LinearRegression().fit(poly2.fit_transform(x), y)\n",
    "print(model.predict(poly2.fit_transform(np.array([[2.2]]))))\n",
    "\n",
    "plt.plot(np.arange(0,10,0.1), model.predict(poly2.fit_transform(np.arange(0,10,0.1).reshape(-1,1))) )"
   ]
  },
  {
   "cell_type": "markdown",
   "metadata": {},
   "source": [
    "## Train and test set"
   ]
  },
  {
   "cell_type": "code",
   "execution_count": 32,
   "metadata": {},
   "outputs": [
    {
     "data": {
      "text/plain": [
       "<matplotlib.collections.PathCollection at 0x1de569b7c40>"
      ]
     },
     "execution_count": 32,
     "metadata": {},
     "output_type": "execute_result"
    },
    {
     "data": {
      "image/png": "[encoded data removed]",
      "text/plain": [
       "<Figure size 432x288 with 1 Axes>"
      ]
     },
     "metadata": {
      "needs_background": "light"
     },
     "output_type": "display_data"
    }
   ],
   "source": [
    "#let's create data, you can check this code at home\n",
    "data_x = np.random.normal(9, 4, 100)\n",
    "data_y = np.random.randint(20,180, size = (len(data_x)))/100*(data_x*data_x*8 + 2*data_x + 5)\n",
    "data_x = data_x.reshape(-1,1)\n",
    "data_y = data_y.reshape(-1,1)\n",
    "\n",
    "plt.scatter(data_x, data_y)\n",
    "# print(data_x)\n",
    "# print(data_y)"
   ]
  },
  {
   "cell_type": "code",
   "execution_count": 33,
   "metadata": {},
   "outputs": [],
   "source": [
    "#Let's keep 20 % of our data aside\n",
    "data_x_train = data_x[:80]\n",
    "data_y_train = data_y[:80]\n",
    "data_x_test = data_x[80:]\n",
    "data_y_test = data_y[80:]\n",
    "# plt.scatter(data_x_train, data_y_train)\n",
    "# plt.scatter(data_x_test, data_y_test)"
   ]
  },
  {
   "cell_type": "code",
   "execution_count": 59,
   "metadata": {
    "scrolled": true
   },
   "outputs": [
    {
     "data": {
      "text/plain": [
       "<matplotlib.collections.PathCollection at 0x1de58406e80>"
      ]
     },
     "execution_count": 59,
     "metadata": {},
     "output_type": "execute_result"
    },
    {
     "data": {
      "image/png": "[encoded data removed]",
      "text/plain": [
       "<Figure size 432x288 with 1 Axes>"
      ]
     },
     "metadata": {
      "needs_background": "light"
     },
     "output_type": "display_data"
    }
   ],
   "source": [
    "#choose a test and train set with scikit-learn:\n",
    "#import sklearn.model_selection and use the train_test_split() function\n",
    "#The order is train/test, train/test\n",
    "import sklearn.model_selection as sksel\n",
    "\n",
    "data_x_train, data_x_test, data_y_train, data_y_test = sksel.train_test_split(data_x,\n",
    "                                                                              data_y,\n",
    "                                                                             train_size = 0.80,\n",
    "                                                                             shuffle = True)\n",
    "\n",
    "plt.scatter(data_x_train, data_y_train)\n",
    "plt.scatter(data_x_test, data_y_test)"
   ]
  },
  {
   "cell_type": "code",
   "execution_count": 60,
   "metadata": {
    "scrolled": true
   },
   "outputs": [],
   "source": [
    "#Let's use the Polynomial transform of the sklearn.preprocessing module\n",
    "poly2 = skprepro.PolynomialFeatures(2, include_bias = False)\n",
    "poly8 = skprepro.PolynomialFeatures(8, include_bias = False)"
   ]
  },
  {
   "cell_type": "code",
   "execution_count": 61,
   "metadata": {},
   "outputs": [],
   "source": [
    "#let's make our regression of degree 2\n",
    "\n",
    "data_x2_train = poly2.fit_transform(data_x_train)\n",
    "model2 = skmod.LinearRegression().fit(data_x2_train, data_y_train)\n"
   ]
  },
  {
   "cell_type": "code",
   "execution_count": 62,
   "metadata": {},
   "outputs": [
    {
     "data": {
      "text/plain": [
       "[<matplotlib.lines.Line2D at 0x1de5844f970>]"
      ]
     },
     "execution_count": 62,
     "metadata": {},
     "output_type": "execute_result"
    },
    {
     "data": {
      "image/png": "[encoded data removed]",
      "text/plain": [
       "<Figure size 432x288 with 1 Axes>"
      ]
     },
     "metadata": {
      "needs_background": "light"
     },
     "output_type": "display_data"
    }
   ],
   "source": [
    "#Let's plot our result\n",
    "plt.scatter(data_x_train, data_y_train)\n",
    "plt.plot(np.arange(0,20,0.1), model2.predict(poly2.fit_transform(np.arange(0,20,0.1).reshape(-1,1))) )"
   ]
  },
  {
   "cell_type": "code",
   "execution_count": 63,
   "metadata": {},
   "outputs": [],
   "source": [
    "#Let's do for all regression for degree 8\n",
    "data_x8_train = poly8.fit_transform(data_x_train)\n",
    "model8 = skmod.LinearRegression().fit(data_x8_train, data_y_train)\n"
   ]
  },
  {
   "cell_type": "code",
   "execution_count": 64,
   "metadata": {},
   "outputs": [
    {
     "data": {
      "text/plain": [
       "[<matplotlib.lines.Line2D at 0x1de58498280>]"
      ]
     },
     "execution_count": 64,
     "metadata": {},
     "output_type": "execute_result"
    },
    {
     "data": {
      "image/png": "[encoded data removed]",
      "text/plain": [
       "<Figure size 432x288 with 1 Axes>"
      ]
     },
     "metadata": {
      "needs_background": "light"
     },
     "output_type": "display_data"
    }
   ],
   "source": [
    "#Let's plot all models\n",
    "plt.scatter(data_x_train, data_y_train)\n",
    "plt.plot(np.arange(0,20,0.1), model8.predict(poly8.fit_transform(np.arange(0,20,0.1).reshape(-1,1))) )"
   ]
  },
  {
   "cell_type": "code",
   "execution_count": 65,
   "metadata": {},
   "outputs": [
    {
     "name": "stdout",
     "output_type": "stream",
     "text": [
      "0.7363613097445526\n",
      "0.7124680267034746\n",
      "----------\n",
      "0.7547442424973796\n",
      "0.7756051349695963\n"
     ]
    }
   ],
   "source": [
    "#Result of our model of the training set: the score function \n",
    "#(1 = perfect fitting, 0 = no fitting at all)\n",
    "print(model2.score(data_x2_train, data_y_train))\n",
    "print(model2.score(poly2.fit_transform(data_x_test), data_y_test))\n",
    "print('-'*10)\n",
    "print(model8.score(data_x8_train, data_y_train))\n",
    "print(model8.score(poly8.fit_transform(data_x_test), data_y_test))"
   ]
  },
  {
   "cell_type": "code",
   "execution_count": null,
   "metadata": {},
   "outputs": [],
   "source": [
    "'''\n",
    "Result of several runs\n",
    "0.7049219701453895\n",
    "0.8688648182186212\n",
    "----------\n",
    "0.7451913259929662\n",
    "0.8867452737654837\n",
    "\n",
    "0.7337286775016486\n",
    "0.7049869021866328\n",
    "----------\n",
    "0.7553884440829808\n",
    "-0.3086734954428372\n",
    "\n",
    "\n",
    "\n",
    "'''"
   ]
  },
  {
   "cell_type": "markdown",
   "metadata": {},
   "source": [
    "## Values scaling"
   ]
  },
  {
   "cell_type": "markdown",
   "metadata": {},
   "source": [
    "### The logic behind scaling"
   ]
  },
  {
   "cell_type": "code",
   "execution_count": 86,
   "metadata": {
    "scrolled": true
   },
   "outputs": [
    {
     "name": "stdout",
     "output_type": "stream",
     "text": [
      "[13865 14569 11366 12743 15387 13307 14084 15570 12100 13721 19788 16722\n",
      " 14586 19749 16076 15079 13212 14971 16084 19464]\n",
      "[75  5 28  1 97 80 28 84 17 48 79 80 27 43 89  7 75 54  9 58]\n"
     ]
    }
   ],
   "source": [
    "#Create two features with different size with random (use function np.random.randint())\n",
    "data_x1 = np.random.randint(10000, 20000, size = (20))\n",
    "data_x2 = np.random.randint(0, 100, size = (20))\n",
    "print(data_x1)\n",
    "print(data_x2)"
   ]
  },
  {
   "cell_type": "code",
   "execution_count": 68,
   "metadata": {},
   "outputs": [
    {
     "data": {
      "text/plain": [
       "<matplotlib.collections.PathCollection at 0x1de5854fdf0>"
      ]
     },
     "execution_count": 68,
     "metadata": {},
     "output_type": "execute_result"
    },
    {
     "data": {
      "image/png": "[encoded data removed]",
      "text/plain": [
       "<Figure size 432x288 with 1 Axes>"
      ]
     },
     "metadata": {
      "needs_background": "light"
     },
     "output_type": "display_data"
    }
   ],
   "source": [
    "#Let's try to plot it together\n",
    "plt.scatter(range(0,20), data_x1)\n",
    "plt.scatter(range(0,20), data_x2)"
   ]
  },
  {
   "cell_type": "code",
   "execution_count": 71,
   "metadata": {},
   "outputs": [],
   "source": [
    "#We can scale our data with normalization ((x - xmin)/(xmax - xmin))\n",
    "data_x1_normalized = (data_x1 - min(data_x1))/ (max(data_x1) - min(data_x1))\n",
    "data_x2_normalized = (data_x2 - min(data_x2))/ (max(data_x2) - min(data_x2))"
   ]
  },
  {
   "cell_type": "code",
   "execution_count": 72,
   "metadata": {},
   "outputs": [
    {
     "data": {
      "text/plain": [
       "<matplotlib.collections.PathCollection at 0x1de58569ee0>"
      ]
     },
     "execution_count": 72,
     "metadata": {},
     "output_type": "execute_result"
    },
    {
     "data": {
      "image/png": "[encoded data removed]",
      "text/plain": [
       "<Figure size 432x288 with 1 Axes>"
      ]
     },
     "metadata": {
      "needs_background": "light"
     },
     "output_type": "display_data"
    }
   ],
   "source": [
    "#Let's plot it again\n",
    "\n",
    "plt.scatter(range(0,20), data_x1_normalized)\n",
    "plt.scatter(range(0,20), data_x2_normalized)"
   ]
  },
  {
   "cell_type": "code",
   "execution_count": 74,
   "metadata": {},
   "outputs": [],
   "source": [
    "#We can scale our data with standardization\n",
    "data_x1_standard = (data_x1 - np.mean(data_x1)) / np.std(data_x1)\n",
    "data_x2_standard = (data_x2 - np.mean(data_x2)) / np.std(data_x2)"
   ]
  },
  {
   "cell_type": "code",
   "execution_count": 75,
   "metadata": {},
   "outputs": [
    {
     "data": {
      "text/plain": [
       "<matplotlib.collections.PathCollection at 0x1de58707250>"
      ]
     },
     "execution_count": 75,
     "metadata": {},
     "output_type": "execute_result"
    },
    {
     "data": {
      "image/png": "[encoded data removed]",
      "text/plain": [
       "<Figure size 432x288 with 1 Axes>"
      ]
     },
     "metadata": {
      "needs_background": "light"
     },
     "output_type": "display_data"
    }
   ],
   "source": [
    "#we can now plot our data\n",
    "\n",
    "plt.scatter(range(0,20), data_x1_standard)\n",
    "plt.scatter(range(0,20), data_x2_standard)"
   ]
  },
  {
   "cell_type": "code",
   "execution_count": 79,
   "metadata": {},
   "outputs": [
    {
     "data": {
      "image/png": "[encoded data removed]",
      "text/plain": [
       "<Figure size 432x288 with 1 Axes>"
      ]
     },
     "metadata": {
      "needs_background": "light"
     },
     "output_type": "display_data"
    },
    {
     "data": {
      "text/plain": [
       "(-1.1, 1.1)"
      ]
     },
     "execution_count": 79,
     "metadata": {},
     "output_type": "execute_result"
    },
    {
     "data": {
      "image/png": "[encoded data removed]",
      "text/plain": [
       "<Figure size 432x288 with 1 Axes>"
      ]
     },
     "metadata": {
      "needs_background": "light"
     },
     "output_type": "display_data"
    }
   ],
   "source": [
    "#The difference between normalisation and standardization when there is outliers\n",
    "#Let's plot it\n",
    "data_x1[0] = -100000\n",
    "\n",
    "data_x1_normalized = (data_x1 - min(data_x1))/ (max(data_x1) - min(data_x1))\n",
    "data_x2_normalized = (data_x2 - min(data_x2))/ (max(data_x2) - min(data_x2))\n",
    "\n",
    "plt.scatter(range(0,20), data_x1_normalized)\n",
    "plt.scatter(range(0,20), data_x2_normalized)\n",
    "plt.show()\n",
    "\n",
    "data_x1_standard = (data_x1 - np.mean(data_x1)) / np.std(data_x1)\n",
    "data_x2_standard = (data_x2 - np.mean(data_x2)) / np.std(data_x2)\n",
    "\n",
    "plt.scatter(range(0,20), data_x1_standard)\n",
    "plt.scatter(range(0,20), data_x2_standard)\n",
    "plt.ylim(-1.1,1.1)"
   ]
  },
  {
   "cell_type": "markdown",
   "metadata": {},
   "source": [
    "### The scikit-learn object"
   ]
  },
  {
   "cell_type": "code",
   "execution_count": 87,
   "metadata": {},
   "outputs": [],
   "source": [
    "#Create the scaler object StandardScaler() object \n",
    "import sklearn.preprocessing as skprepro\n",
    "scaler_standard = skprepro.StandardScaler()"
   ]
  },
  {
   "cell_type": "code",
   "execution_count": 88,
   "metadata": {},
   "outputs": [],
   "source": [
    "#prepare our data: 2 columns because 2 features\n",
    "data_x1 = data_x1.reshape(-1,1)\n",
    "data_x2 = data_x2.reshape(-1,1)\n",
    "data_x = np.hstack([data_x1, data_x2])\n",
    "\n",
    "label =  np.random.randint(0, 100, size = (20))"
   ]
  },
  {
   "cell_type": "code",
   "execution_count": 90,
   "metadata": {
    "scrolled": false
   },
   "outputs": [
    {
     "name": "stdout",
     "output_type": "stream",
     "text": [
      "[[13865    75]\n",
      " [14569     5]\n",
      " [11366    28]\n",
      " [12743     1]\n",
      " [15387    97]\n",
      " [13307    80]\n",
      " [14084    28]\n",
      " [15570    84]\n",
      " [12100    17]\n",
      " [13721    48]]\n",
      "[[-0.54154264  0.82755241]\n",
      " [-0.23828049 -1.41774483]\n",
      " [-1.61803715 -0.68000431]\n",
      " [-1.02486671 -1.54604753]\n",
      " [ 0.11408946  1.53321726]\n",
      " [-0.78191236  0.98793079]\n",
      " [-0.44720399 -0.68000431]\n",
      " [ 0.19292039  1.11623349]\n",
      " [-1.30185189 -1.03283673]\n",
      " [-0.60357354 -0.03849081]]\n"
     ]
    }
   ],
   "source": [
    "#use it on your data with the fit_transform()\n",
    "data_x_stan = scaler_standard.fit_transform(data_x)\n",
    "print(data_x[:10])\n",
    "print(data_x_stan[:10])"
   ]
  },
  {
   "cell_type": "code",
   "execution_count": 93,
   "metadata": {},
   "outputs": [
    {
     "name": "stdout",
     "output_type": "stream",
     "text": [
      "[[15354.29238362    52.3176273 ]]\n"
     ]
    }
   ],
   "source": [
    "#Use inverse_transform method to come back for standardized data to real data\n",
    "print(scaler_standard.inverse_transform([[0.1, 0.1]]))"
   ]
  },
  {
   "cell_type": "code",
   "execution_count": 102,
   "metadata": {
    "scrolled": false
   },
   "outputs": [
    {
     "name": "stdout",
     "output_type": "stream",
     "text": [
      "[[ 2.200000e+01  1.489022e+06 -9.967000e+01]\n",
      " [ 8.500000e+01  1.073767e+06 -9.937000e+01]\n",
      " [ 9.600000e+01  1.975250e+06 -9.908000e+01]\n",
      " [ 8.100000e+01  1.493073e+06 -9.954000e+01]\n",
      " [ 6.800000e+01  1.063635e+06 -9.980000e+01]\n",
      " [ 9.700000e+01  1.017921e+06 -9.921000e+01]\n",
      " [ 2.900000e+01  1.206827e+06 -9.973000e+01]\n",
      " [ 6.100000e+01  1.217274e+06 -9.978000e+01]\n",
      " [ 7.300000e+01  1.933018e+06 -9.960000e+01]\n",
      " [ 8.600000e+01  1.325618e+06 -9.948000e+01]]\n",
      "[[-1.93765385  0.33481781 -0.62382688]\n",
      " [ 0.61615771 -0.93512067  0.67581245]\n",
      " [ 1.06206131  1.82180687  1.93213047]\n",
      " [ 0.45401094  0.34720663 -0.06064984]\n",
      " [-0.07296604 -0.96610649 -1.18700392]\n",
      " [ 1.10259801 -1.10590966  1.36895343]\n",
      " [-1.65389701 -0.52819477 -0.88375474]\n",
      " [-0.35672288 -0.49624561 -1.1003613 ]\n",
      " [ 0.12971741  1.6926524  -0.3205777 ]\n",
      " [ 0.6566944  -0.16490652  0.19927803]]\n",
      "[[ 2.200000e+01  1.489022e+06 -9.967000e+01]\n",
      " [ 8.500000e+01  1.073767e+06 -9.937000e+01]\n",
      " [ 9.600000e+01  1.975250e+06 -9.908000e+01]\n",
      " [ 8.100000e+01  1.493073e+06 -9.954000e+01]\n",
      " [ 6.800000e+01  1.063635e+06 -9.980000e+01]\n",
      " [ 9.700000e+01  1.017921e+06 -9.921000e+01]\n",
      " [ 2.900000e+01  1.206827e+06 -9.973000e+01]\n",
      " [ 6.100000e+01  1.217274e+06 -9.978000e+01]\n",
      " [ 7.300000e+01  1.933018e+06 -9.960000e+01]\n",
      " [ 8.600000e+01  1.325618e+06 -9.948000e+01]]\n"
     ]
    }
   ],
   "source": [
    "#YOUR TURN (10 minutes)\n",
    "#On the file in Teams (use copy past to transfer it in python), \n",
    "#tranform the three lists in a 10*3 matrix of standardized features\n",
    "l1 = [22, 85, 96, 81, 68, 97, 29, 61, 73, 86]\n",
    "l2 = [1489022, 1073767, 1975250, 1493073, 1063635, 1017921, 1206827, 1217274, 1933018, 1325618]\n",
    "l3 = [-99.67, -99.37, -99.08, -99.54, -99.8, -99.21, -99.73, -99.78, -99.6, -99.48]\n",
    "l4 = [-182, -254.3,  -71  , -172, -261 , -262, -237, -231, -85, -204]\n",
    "#76 crosses / 52 students\n",
    "l1 = np.array(l1).reshape(-1,1)\n",
    "l2 = np.array(l2).reshape(-1,1)\n",
    "l3 = np.array(l3).reshape(-1,1)\n",
    "L = np.hstack([l1, l2, l3])\n",
    "print(L)\n",
    "scaler = skprepro.StandardScaler()\n",
    "L = scaler.fit_transform(L)\n",
    "print(L)\n",
    "print(scaler.inverse_transform(L))"
   ]
  },
  {
   "cell_type": "code",
   "execution_count": 106,
   "metadata": {},
   "outputs": [
    {
     "name": "stdout",
     "output_type": "stream",
     "text": [
      "[1448.41304651]\n"
     ]
    }
   ],
   "source": [
    "#YOUR TURN (5 minutes)\n",
    "#Make a linear regression with the three features (l1, l2 and l3) and the label (l4)\n",
    "#with standardized features\n",
    "# what is the prediction of both model for fatures: [30, 1600000, -99.5]\n",
    "model = skmod.LinearRegression().fit(L, l4)\n",
    "print(model.predict(scaler.transform(np.array([[10000, 10, -10]]))))"
   ]
  },
  {
   "cell_type": "code",
   "execution_count": null,
   "metadata": {},
   "outputs": [],
   "source": []
  }
 ],
 "metadata": {
  "kernelspec": {
   "display_name": "Python 3",
   "language": "python",
   "name": "python3"
  },
  "language_info": {
   "codemirror_mode": {
    "name": "ipython",
    "version": 3
   },
   "file_extension": ".py",
   "mimetype": "text/x-python",
   "name": "python",
   "nbconvert_exporter": "python",
   "pygments_lexer": "ipython3",
   "version": "3.9.10 (tags/v3.9.10:f2f3f53, Jan 17 2022, 15:14:21) [MSC v.1929 64 bit (AMD64)]"
  },
  "vscode": {
   "interpreter": {
    "hash": "fbe58ca63fe33f9eeae9e71d10368d2b4a57f2b1b395836210cc60d362c66949"
   }
  }
 },
 "nbformat": 4,
 "nbformat_minor": 4
}
