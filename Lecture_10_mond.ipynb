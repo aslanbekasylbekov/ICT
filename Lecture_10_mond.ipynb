{
 "cells": [
  {
   "cell_type": "markdown",
   "metadata": {},
   "source": [
    "# Correction of practice 9"
   ]
  },
  {
   "cell_type": "code",
   "execution_count": null,
   "metadata": {},
   "outputs": [],
   "source": [
    "#See the excel file"
   ]
  },
  {
   "cell_type": "markdown",
   "metadata": {},
   "source": [
    "# Lecture 10: Machine Learning"
   ]
  },
  {
   "cell_type": "markdown",
   "metadata": {},
   "source": [
    "## Installation of packages"
   ]
  },
  {
   "cell_type": "code",
   "execution_count": null,
   "metadata": {
    "scrolled": true
   },
   "outputs": [],
   "source": [
    "#Install the package numpy and scikit-learn"
   ]
  },
  {
   "cell_type": "code",
   "execution_count": 1,
   "metadata": {},
   "outputs": [
    {
     "name": "stdout",
     "output_type": "stream",
     "text": [
      "Requirement already satisfied: numpy in c:\\users\\chard\\anaconda3\\lib\\site-packages (1.23.3)\n",
      "Note: you may need to restart the kernel to use updated packages.\n"
     ]
    }
   ],
   "source": [
    "pip install numpy"
   ]
  },
  {
   "cell_type": "code",
   "execution_count": 2,
   "metadata": {},
   "outputs": [
    {
     "name": "stdout",
     "output_type": "stream",
     "text": [
      "Requirement already satisfied: scikit-learn in c:\\users\\chard\\anaconda3\\lib\\site-packages (0.23.1)\n",
      "Requirement already satisfied: threadpoolctl>=2.0.0 in c:\\users\\chard\\anaconda3\\lib\\site-packages (from scikit-learn) (2.1.0)\n",
      "Requirement already satisfied: scipy>=0.19.1 in c:\\users\\chard\\anaconda3\\lib\\site-packages (from scikit-learn) (1.5.0)\n",
      "Requirement already satisfied: joblib>=0.11 in c:\\users\\chard\\anaconda3\\lib\\site-packages (from scikit-learn) (0.16.0)\n",
      "Requirement already satisfied: numpy>=1.13.3 in c:\\users\\chard\\anaconda3\\lib\\site-packages (from scikit-learn) (1.23.3)\n",
      "Note: you may need to restart the kernel to use updated packages.\n"
     ]
    }
   ],
   "source": [
    "pip install scikit-learn"
   ]
  },
  {
   "cell_type": "code",
   "execution_count": 9,
   "metadata": {},
   "outputs": [],
   "source": [
    "#import the packages\n",
    "import numpy as np\n",
    "import sklearn.linear_model as skmod\n",
    "import matplotlib.pyplot as plt"
   ]
  },
  {
   "cell_type": "markdown",
   "metadata": {},
   "source": [
    "## Reminder of numpy"
   ]
  },
  {
   "cell_type": "code",
   "execution_count": 4,
   "metadata": {},
   "outputs": [],
   "source": [
    "#Our data: the goats and the altitude\n",
    "alt = [3.25, 0.816, 4.376, 1.314, 3.982, 2.957, 2.482, 3.7]\n",
    "n_goats = [21, 22, 13, 25, 17, 23, 23, 27]"
   ]
  },
  {
   "cell_type": "code",
   "execution_count": 7,
   "metadata": {},
   "outputs": [
    {
     "name": "stdout",
     "output_type": "stream",
     "text": [
      "[[3.25 ]\n",
      " [0.816]\n",
      " [4.376]\n",
      " [1.314]\n",
      " [3.982]\n",
      " [2.957]\n",
      " [2.482]\n",
      " [3.7  ]]\n",
      "[[21]\n",
      " [22]\n",
      " [13]\n",
      " [25]\n",
      " [17]\n",
      " [23]\n",
      " [23]\n",
      " [27]]\n"
     ]
    }
   ],
   "source": [
    "#Reorder your arrays\n",
    "arr_x = np.array(alt)\n",
    "arr_x = arr_x.reshape(-1,1)\n",
    "print(arr_x)\n",
    "arr_y = np.array(n_goats)\n",
    "arr_y = arr_y.reshape(-1,1)\n",
    "print(arr_y)"
   ]
  },
  {
   "cell_type": "markdown",
   "metadata": {},
   "source": [
    "## The linear regression"
   ]
  },
  {
   "cell_type": "code",
   "execution_count": 10,
   "metadata": {},
   "outputs": [
    {
     "data": {
      "text/plain": [
       "<matplotlib.collections.PathCollection at 0x21bfeab75b0>"
      ]
     },
     "execution_count": 10,
     "metadata": {},
     "output_type": "execute_result"
    },
    {
     "data": {
      "image/png": "[encoded data removed]",
      "text/plain": [
       "<Figure size 432x288 with 1 Axes>"
      ]
     },
     "metadata": {
      "needs_background": "light"
     },
     "output_type": "display_data"
    }
   ],
   "source": [
    "#Plot your data first\n",
    "plt.scatter(arr_x, arr_y)"
   ]
  },
  {
   "cell_type": "code",
   "execution_count": 11,
   "metadata": {},
   "outputs": [],
   "source": [
    "#Create a linear regression model: LinearRegression()\n",
    "model = skmod.LinearRegression()\n",
    "#some parameters than you can change:\n",
    "#fit_intercept (consider b=0 if False, default is True)"
   ]
  },
  {
   "cell_type": "code",
   "execution_count": 13,
   "metadata": {},
   "outputs": [],
   "source": [
    "#Train your model\n",
    "model = model.fit(arr_x, arr_y)"
   ]
  },
  {
   "cell_type": "code",
   "execution_count": 17,
   "metadata": {
    "scrolled": false
   },
   "outputs": [
    {
     "name": "stdout",
     "output_type": "stream",
     "text": [
      "[[-1.8288764]]\n",
      "[26.60490068]\n",
      "0.266272309411421\n"
     ]
    }
   ],
   "source": [
    "#get the result: the intercept (b)(.intercept_), \n",
    "#the coeff (w1)(.coef_) and the R2 (.score(x, y))\n",
    "print(model.coef_) #w1\n",
    "print(model.intercept_) #bias (b)\n",
    "print(model.score(arr_x, arr_y)) #R2 (R2 = 1 => perfect)\n",
    "#final equation => y' = -1.829 * x + 26.60"
   ]
  },
  {
   "cell_type": "code",
   "execution_count": 20,
   "metadata": {},
   "outputs": [
    {
     "data": {
      "text/plain": [
       "[<matplotlib.lines.Line2D at 0x21b807b7e80>]"
      ]
     },
     "execution_count": 20,
     "metadata": {},
     "output_type": "execute_result"
    },
    {
     "data": {
      "image/png": "[encoded data removed]",
      "text/plain": [
       "<Figure size 432x288 with 1 Axes>"
      ]
     },
     "metadata": {
      "needs_background": "light"
     },
     "output_type": "display_data"
    }
   ],
   "source": [
    "#draw your model on the graph\n",
    "plt.scatter(arr_x, arr_y)\n",
    "plt.plot([0, 4], [-1.829 * 0 + 26.60, -1.829 * 4 + 26.60])"
   ]
  },
  {
   "cell_type": "code",
   "execution_count": 21,
   "metadata": {},
   "outputs": [
    {
     "name": "stdout",
     "output_type": "stream",
     "text": [
      "[[26.60490068]\n",
      " [24.77602428]\n",
      " [22.94714788]\n",
      " [21.11827148]\n",
      " [19.28939508]]\n"
     ]
    }
   ],
   "source": [
    "#Now use your model to predict data (.predict(x))\n",
    "arr_x_predict = np.array([0,1,2,3,4]).reshape(-1,1)\n",
    "print(model.predict(arr_x_predict))"
   ]
  },
  {
   "cell_type": "code",
   "execution_count": 23,
   "metadata": {},
   "outputs": [
    {
     "name": "stdout",
     "output_type": "stream",
     "text": [
      "26.6\n",
      "24.771\n",
      "22.942\n",
      "21.113\n",
      "19.284000000000002\n"
     ]
    }
   ],
   "source": [
    "#Predict the result without predict but with intercept and coeff\n",
    "print(-1.829 * 0 + 26.60)\n",
    "print(-1.829 * 1 + 26.60)\n",
    "print(-1.829 * 2 + 26.60)\n",
    "print(-1.829 * 3 + 26.60)\n",
    "print(-1.829 * 4 + 26.60)"
   ]
  },
  {
   "cell_type": "code",
   "execution_count": 24,
   "metadata": {},
   "outputs": [
    {
     "data": {
      "text/plain": [
       "[<matplotlib.lines.Line2D at 0x21b82183100>]"
      ]
     },
     "execution_count": 24,
     "metadata": {},
     "output_type": "execute_result"
    },
    {
     "data": {
      "image/png": "[encoded data removed]",
      "text/plain": [
       "<Figure size 432x288 with 1 Axes>"
      ]
     },
     "metadata": {
      "needs_background": "light"
     },
     "output_type": "display_data"
    }
   ],
   "source": [
    "#using predict in my graph\n",
    "plt.scatter(arr_x, arr_y)\n",
    "plt.plot([0, 4], model.predict(np.array([0,4]).reshape(-1,1)))"
   ]
  },
  {
   "cell_type": "code",
   "execution_count": null,
   "metadata": {},
   "outputs": [],
   "source": [
    "#YOUR TURN (15 minutes)\n",
    "#Use the folowwing data to create a linear regression model and train it:\n",
    "# feature 1 | Label\n",
    "#--------------------\n",
    "#   25      |   80\n",
    "#   100     |   254\n",
    "#   30      |   152\n",
    "#   5       |   4\n",
    "#   85      |   271\n",
    "\n",
    "#The coeff use to preduce data was 2,56 and the intercept was 23\n",
    "#How close are you (How high is the score)?\n",
    "#Draw the graph of the datas and your prediction"
   ]
  },
  {
   "cell_type": "code",
   "execution_count": 33,
   "metadata": {},
   "outputs": [
    {
     "name": "stdout",
     "output_type": "stream",
     "text": [
      "[[2.6183161]]\n",
      "[23.90251108]\n",
      "0.8985431805527473\n",
      "[[ 23.90251108]\n",
      " [285.73412112]]\n"
     ]
    },
    {
     "data": {
      "text/plain": [
       "[<matplotlib.lines.Line2D at 0x21b81bdf100>]"
      ]
     },
     "execution_count": 33,
     "metadata": {},
     "output_type": "execute_result"
    },
    {
     "data": {
      "image/png": "[encoded data removed]",
      "text/plain": [
       "<Figure size 432x288 with 1 Axes>"
      ]
     },
     "metadata": {
      "needs_background": "light"
     },
     "output_type": "display_data"
    }
   ],
   "source": [
    "arr_x = np.array([25, 100, 30, 5, 85]).reshape(-1,1)\n",
    "arr_y = np.array([80, 254, 152, 4, 271]).reshape(-1,1)\n",
    "model = skmod.LinearRegression()\n",
    "model = model.fit(arr_x, arr_y)\n",
    "print(model.coef_)\n",
    "print(model.intercept_)\n",
    "print(model.score(arr_x, arr_y))\n",
    "plt.scatter(arr_x, arr_y)\n",
    "print(model.predict(np.array([0,100]).reshape(-1,1)))\n",
    "plt.plot([0, 100], model.predict(np.array([0,100]).reshape(-1,1)))\n",
    "plt.plot([0, 100], [23.9, 285])"
   ]
  },
  {
   "cell_type": "markdown",
   "metadata": {},
   "source": [
    "## For mutiple dimension\n"
   ]
  },
  {
   "cell_type": "code",
   "execution_count": 34,
   "metadata": {},
   "outputs": [],
   "source": [
    "#Our datas: the students work\n",
    "x1 = [9, 10, 16, 22, 17, 7, 10, 24, 15]\n",
    "x2 = [14, 18, 1, 22, 6, 12, 4, 28, 22]\n",
    "y = [42.8, 48.8, 36.8, 81.1, 44.8, 32.4, 28.8, 100, 73.1]"
   ]
  },
  {
   "cell_type": "code",
   "execution_count": 35,
   "metadata": {},
   "outputs": [
    {
     "data": {
      "text/plain": [
       "<matplotlib.collections.PathCollection at 0x21b82218fd0>"
      ]
     },
     "execution_count": 35,
     "metadata": {},
     "output_type": "execute_result"
    },
    {
     "data": {
      "image/png": "[encoded data removed]",
      "text/plain": [
       "<Figure size 432x288 with 1 Axes>"
      ]
     },
     "metadata": {
      "needs_background": "light"
     },
     "output_type": "display_data"
    }
   ],
   "source": [
    "#Draw the data in 2d with colors\n",
    "plt.scatter(x1, x2, c = y, cmap = 'Reds')"
   ]
  },
  {
   "cell_type": "code",
   "execution_count": 36,
   "metadata": {},
   "outputs": [
    {
     "data": {
      "text/plain": [
       "<mpl_toolkits.mplot3d.art3d.Path3DCollection at 0x21b821a12b0>"
      ]
     },
     "execution_count": 36,
     "metadata": {},
     "output_type": "execute_result"
    },
    {
     "data": {
      "image/png": "[encoded data removed]",
      "text/plain": [
       "<Figure size 432x288 with 1 Axes>"
      ]
     },
     "metadata": {
      "needs_background": "light"
     },
     "output_type": "display_data"
    }
   ],
   "source": [
    "#Draw in 3D\n",
    "ax = plt.subplot(projection='3d')\n",
    "ax.scatter(x1, x2, y)"
   ]
  },
  {
   "cell_type": "code",
   "execution_count": 40,
   "metadata": {},
   "outputs": [
    {
     "name": "stdout",
     "output_type": "stream",
     "text": [
      "[[ 9 14]\n",
      " [10 18]\n",
      " [16  1]\n",
      " [22 22]\n",
      " [17  6]\n",
      " [ 7 12]\n",
      " [10  4]\n",
      " [24 28]\n",
      " [15 22]]\n"
     ]
    }
   ],
   "source": [
    "#Transform our data for scikit-learn\n",
    "arr_x1 = np.array(x1).reshape(-1,1)\n",
    "arr_x2 = np.array(x2).reshape(-1,1)\n",
    "arr_y = np.array(y).reshape(-1,1)\n",
    "# print(arr_x1)\n",
    "arr_x = np.hstack([arr_x1, arr_x2])\n",
    "print(arr_x)"
   ]
  },
  {
   "cell_type": "code",
   "execution_count": 42,
   "metadata": {},
   "outputs": [],
   "source": [
    "#create and train the model\n",
    "model = skmod.LinearRegression()\n",
    "model_trained = model.fit(arr_x, arr_y)"
   ]
  },
  {
   "cell_type": "code",
   "execution_count": 44,
   "metadata": {},
   "outputs": [
    {
     "name": "stdout",
     "output_type": "stream",
     "text": [
      "[[2.21268076 1.68913745]]\n",
      "[-1.50766172]\n"
     ]
    }
   ],
   "source": [
    "#get the result and write the equation\n",
    "print(model_trained.coef_)\n",
    "print(model_trained.intercept_)\n",
    "#y' = 2.21*x1 + 1.69*x2 - 1.51"
   ]
  },
  {
   "cell_type": "code",
   "execution_count": 47,
   "metadata": {},
   "outputs": [
    {
     "name": "stdout",
     "output_type": "stream",
     "text": [
      "19.68\n"
     ]
    }
   ],
   "source": [
    "#Prediction with the equation\n",
    "print(2.21*5 + 1.69*6 - 1.51)"
   ]
  },
  {
   "cell_type": "code",
   "execution_count": 48,
   "metadata": {},
   "outputs": [
    {
     "name": "stdout",
     "output_type": "stream",
     "text": [
      "[[ 5  6]\n",
      " [ 6 18]]\n",
      "[[19.6905668 ]\n",
      " [42.17289697]]\n"
     ]
    }
   ],
   "source": [
    "#use the model for prediction\n",
    "arr_pred = np.array([[5, 6], [6, 18]])\n",
    "print(arr_pred)\n",
    "print(model_trained.predict(arr_pred))"
   ]
  },
  {
   "cell_type": "code",
   "execution_count": null,
   "metadata": {},
   "outputs": [],
   "source": [
    "#YOUR TURN (15 minutes)\n",
    "#Here is your data\n",
    "#x1 = [7, 0, 3, 3, 5]\n",
    "#x2 = [2, 0, 7, 3, 9]\n",
    "#y = [44, 0, 25, 21, 39]\n",
    "#Make the linear regression between these datas.\n",
    "#What are the weights and the bias? Write the final equation of your model.\n",
    "#What would be the prediction for x1 = 5 and x2 = 6"
   ]
  },
  {
   "cell_type": "markdown",
   "metadata": {},
   "source": [
    "## The polynomial regression"
   ]
  },
  {
   "cell_type": "code",
   "execution_count": 49,
   "metadata": {},
   "outputs": [],
   "source": [
    "#Remember: A polynomial regression of degree two is just \n",
    "#a linear regression with two features where the second feature\n",
    "#is the square of the first one"
   ]
  },
  {
   "cell_type": "code",
   "execution_count": 65,
   "metadata": {},
   "outputs": [],
   "source": [
    "#Our data: the number of goats\n",
    "alt = [3.25, 0.816, 4.376, 1.314, 3.982, 2.957, 2.482, 3.7]\n",
    "n_goats = [21, 22, 13, 25, 17, 23, 23, 27]"
   ]
  },
  {
   "cell_type": "code",
   "execution_count": 66,
   "metadata": {
    "scrolled": true
   },
   "outputs": [
    {
     "name": "stdout",
     "output_type": "stream",
     "text": [
      "[10.5625, 0.6658559999999999, 19.149376000000004, 1.7265960000000002, 15.856324000000003, 8.743848999999999, 6.160324000000001, 13.690000000000001]\n"
     ]
    }
   ],
   "source": [
    "#The simplest way to do it: the square method\n",
    "alt_sq = []\n",
    "for i in alt:\n",
    "    alt_sq.append(i**2)\n",
    "print(alt_sq)\n"
   ]
  },
  {
   "cell_type": "code",
   "execution_count": 67,
   "metadata": {},
   "outputs": [],
   "source": [
    "#CReate the arrays\n",
    "arr_x = np.array(alt).reshape(-1,1)\n",
    "arr_x2 = np.array(alt_sq).reshape(-1,1)\n",
    "arr_X = np.hstack([arr_x, arr_x2])\n",
    "arr_y = np.array(n_goats).reshape(-1,1)"
   ]
  },
  {
   "cell_type": "code",
   "execution_count": 68,
   "metadata": {},
   "outputs": [],
   "source": [
    "#Create the model and train it\n",
    "model = skmod.LinearRegression()\n",
    "model = model.fit(arr_X, arr_y)"
   ]
  },
  {
   "cell_type": "code",
   "execution_count": 70,
   "metadata": {},
   "outputs": [
    {
     "name": "stdout",
     "output_type": "stream",
     "text": [
      "[[ 8.23020929 -1.96652729]]\n",
      "[16.6580818]\n"
     ]
    }
   ],
   "source": [
    "#show the coefficients\n",
    "print(model.coef_)\n",
    "print(model.intercept_)\n",
    "#equation: y' = 8.23*x -1.9665 * x^2 + 16.65"
   ]
  },
  {
   "cell_type": "code",
   "execution_count": 88,
   "metadata": {},
   "outputs": [],
   "source": [
    "#create data for model\n",
    "model_x = list(np.arange(0,6,0.1))\n",
    "model_y = []\n",
    "for i in model_x:\n",
    "    model_y.append(model.predict(np.array([[i, i**2]]))[0])"
   ]
  },
  {
   "cell_type": "code",
   "execution_count": 89,
   "metadata": {
    "scrolled": true
   },
   "outputs": [
    {
     "data": {
      "text/plain": [
       "[<matplotlib.lines.Line2D at 0x21b83a47d60>]"
      ]
     },
     "execution_count": 89,
     "metadata": {},
     "output_type": "execute_result"
    },
    {
     "data": {
      "image/png": "[encoded data removed]",
      "text/plain": [
       "<Figure size 432x288 with 1 Axes>"
      ]
     },
     "metadata": {
      "needs_background": "light"
     },
     "output_type": "display_data"
    }
   ],
   "source": [
    "#Draw your datas and the model\n",
    "plt.scatter(arr_x, arr_y)\n",
    "# print(model.predict(np.array([[1, 1], [4, 16]])))\n",
    "plt.plot(model_x, model_y)"
   ]
  },
  {
   "cell_type": "code",
   "execution_count": null,
   "metadata": {},
   "outputs": [],
   "source": []
  },
  {
   "cell_type": "code",
   "execution_count": null,
   "metadata": {},
   "outputs": [],
   "source": [
    "#YOUR TURN (15 minutes)\n",
    "#Find the link between these values (use linear and polynomial regression)\n",
    "#\n",
    "# feature  Label\n",
    "# 13       505\n",
    "# 3        35\n",
    "# 17       836\n",
    "# 0        -6\n",
    "# 2         16\n",
    "#The equation used is 2,56*x^2 + x*6 -6, \n",
    "#Can you find it with your regression?"
   ]
  },
  {
   "cell_type": "code",
   "execution_count": 94,
   "metadata": {},
   "outputs": [
    {
     "name": "stdout",
     "output_type": "stream",
     "text": [
      "[[6.05253902 2.55824485]]\n",
      "[-6.15443798]\n"
     ]
    }
   ],
   "source": [
    "x = [13, 3, 17, 0, 2]\n",
    "y = [505, 35, 836, -6, 16]\n",
    "x2 = []\n",
    "for i in x:\n",
    "    x2.append(i**2)\n",
    "x_arr = np.array(x).reshape(-1,1)\n",
    "x2_arr = np.array(x2).reshape(-1,1)\n",
    "y_arr = np.array(y).reshape(-1,1)\n",
    "X = np.hstack([x_arr, x2_arr])\n",
    "model = skmod.LinearRegression()\n",
    "model = model.fit(X, y_arr)\n",
    "print(model.coef_)\n",
    "print(model.intercept_)"
   ]
  },
  {
   "cell_type": "code",
   "execution_count": 95,
   "metadata": {},
   "outputs": [],
   "source": [
    "#Let's show the difference with a linear regression - make the linear model\n",
    "model_lin = skmod.LinearRegression()\n",
    "model_lin = model_lin.fit(x_arr, y_arr)"
   ]
  },
  {
   "cell_type": "code",
   "execution_count": 97,
   "metadata": {
    "scrolled": true
   },
   "outputs": [
    {
     "name": "stdout",
     "output_type": "stream",
     "text": [
      "[[49.61061947]]\n",
      "[-70.07433628]\n"
     ]
    }
   ],
   "source": [
    "#show the linear model's equations\n",
    "print(model_lin.coef_)\n",
    "print(model_lin.intercept_)"
   ]
  },
  {
   "cell_type": "code",
   "execution_count": 98,
   "metadata": {},
   "outputs": [],
   "source": [
    "#crate model x and y\n",
    "model_x = np.arange(0,20,0.1)\n",
    "model_y = 2.56*model_x**2 + 6*model_x -6"
   ]
  },
  {
   "cell_type": "code",
   "execution_count": 101,
   "metadata": {
    "scrolled": false
   },
   "outputs": [
    {
     "data": {
      "text/plain": [
       "[<matplotlib.lines.Line2D at 0x21b83b8ed60>]"
      ]
     },
     "execution_count": 101,
     "metadata": {},
     "output_type": "execute_result"
    },
    {
     "data": {
      "image/png": "[encoded data removed]",
      "text/plain": [
       "<Figure size 432x288 with 1 Axes>"
      ]
     },
     "metadata": {
      "needs_background": "light"
     },
     "output_type": "display_data"
    }
   ],
   "source": [
    "#draw the datas, the linear and polynomial model on the same graph\n",
    "plt.scatter(x_arr, y_arr)\n",
    "plt.plot(model_x, model_y)\n",
    "plt.plot([0,20], model_lin.predict(np.array([[0], [20]])))"
   ]
  },
  {
   "cell_type": "code",
   "execution_count": null,
   "metadata": {},
   "outputs": [],
   "source": []
  },
  {
   "cell_type": "code",
   "execution_count": null,
   "metadata": {},
   "outputs": [],
   "source": []
  }
 ],
 "metadata": {
  "kernelspec": {
   "display_name": "Python 3",
   "language": "python",
   "name": "python3"
  },
  "language_info": {
   "codemirror_mode": {
    "name": "ipython",
    "version": 3
   },
   "file_extension": ".py",
   "mimetype": "text/x-python",
   "name": "python",
   "nbconvert_exporter": "python",
   "pygments_lexer": "ipython3",
   "version": "3.9.10 (tags/v3.9.10:f2f3f53, Jan 17 2022, 15:14:21) [MSC v.1929 64 bit (AMD64)]"
  },
  "vscode": {
   "interpreter": {
    "hash": "fbe58ca63fe33f9eeae9e71d10368d2b4a57f2b1b395836210cc60d362c66949"
   }
  }
 },
 "nbformat": 4,
 "nbformat_minor": 4
}
