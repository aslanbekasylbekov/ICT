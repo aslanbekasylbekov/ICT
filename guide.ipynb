{
 "cells": [
  {
   "cell_type": "code",
   "execution_count": 46,
   "metadata": {},
   "outputs": [],
   "source": [
    "# import topics for exam\n",
    "import pandas as pd\n",
    "import pyarrow\n",
    "import fastparquet\n",
    "import numpy as np\n",
    "import sklearn.linear_model as skmod\n",
    "import sklearn\n",
    "import matplotlib as plt\n",
    "import datetime\n",
    "import sklearn.preprocessing as skprepro\n",
    "import sklearn.model_selection\n",
    "import matplotlib.pyplot as plt\n",
    "import sklearn.model_selection as sksel\n"
   ]
  },
  {
   "cell_type": "markdown",
   "metadata": {},
   "source": [
    "## LECTURE 8"
   ]
  },
  {
   "cell_type": "code",
   "execution_count": null,
   "metadata": {},
   "outputs": [
    {
     "ename": "",
     "evalue": "",
     "output_type": "error",
     "traceback": [
      "\u001b[1;31mДля выполнения ячеек с \"Python 3.9.10 64-bit\" требуется пакет ipykernel.\n",
      "\u001b[1;31mВыполните следующую команду, чтобы установить \"ipykernel\" в среде Python. \n",
      "\u001b[1;31mКоманда: \"c:/python/python.exe -m pip install ipykernel -U --user --force-reinstall\""
     ]
    }
   ],
   "source": [
    "# to read parquet file\n",
    "df_origin = pd.read_parquet(\"path\") \n",
    "# select only a part of the data\n",
    "df_select = df_origin[df_origin['Name'] == 'GOOGL'] \n",
    "# reset index, drop = True\n",
    "df_select.reset_index(inplace = True, drop = True)\n"
   ]
  },
  {
   "cell_type": "code",
   "execution_count": null,
   "metadata": {},
   "outputs": [],
   "source": [
    "# make plot without x axis\n",
    "df_select.plot(y = 'Open')\n",
    "#you can also use another column as x axis\n",
    "df_select.plot(x = 'Date', y = 'Open')\n",
    "\n",
    "#You can select even smaller amount of data\n",
    "df_select = df_select[df_select['Date'] > datetime.datetime(2022,8,1)]\n",
    "print(df_select)\n"
   ]
  },
  {
   "cell_type": "code",
   "execution_count": null,
   "metadata": {},
   "outputs": [],
   "source": [
    "#use the bar kind\n",
    "#use the kind attribute\n",
    "df_select.plot(kind = 'bar', x = 'Date', y = ['Close', 'High'])\n",
    "\n",
    "#use the horizontal bar kind\n",
    "df_select.plot(kind = 'barh', x = 'Date', y = 'Open')\n",
    "\n",
    "# use the histogram\n",
    "df_select.plot(kind = 'hist', y = ['Open', 'Close'])"
   ]
  },
  {
   "cell_type": "code",
   "execution_count": null,
   "metadata": {},
   "outputs": [],
   "source": [
    "# for more plots go to the Practice_8/lectture_8_mond.ipynb"
   ]
  },
  {
   "cell_type": "code",
   "execution_count": null,
   "metadata": {},
   "outputs": [],
   "source": [
    "# Add column:\n",
    "#percentage change for 'Open'\n",
    "#price_day(i) - price_day(i-1) / price_day(i) *100\n",
    "df = df_origin[df_origin['Name'] == 'GOOGL'].copy()\n",
    "df.reset_index(inplace = True, drop = True)\n",
    "perc = []\n",
    "for index, line in df.iterrows():\n",
    "    if index == 0:\n",
    "        perc.append(0)\n",
    "    else:\n",
    "        perc.append((line['Open'] - df.loc[index-1, 'Open'] ) / line['Open'] *100)\n",
    "\n",
    "df['perc_Open'] = perc\n",
    "print(df)"
   ]
  },
  {
   "cell_type": "markdown",
   "metadata": {},
   "source": [
    "## LECTURE 9"
   ]
  },
  {
   "cell_type": "markdown",
   "metadata": {},
   "source": [
    "## Numpy"
   ]
  },
  {
   "cell_type": "code",
   "execution_count": 3,
   "metadata": {},
   "outputs": [
    {
     "name": "stdout",
     "output_type": "stream",
     "text": [
      "[1, 2, 3, 4, 5]\n",
      "[1 2 3 4 5]\n"
     ]
    }
   ],
   "source": [
    "#Create your fisrt numpy array in 1 dimension\n",
    "list_ = [1,2,3,4,5]\n",
    "print(list_)\n",
    "arr = np.array([1,2,3,4,5])\n",
    "print(arr)"
   ]
  },
  {
   "cell_type": "code",
   "execution_count": 5,
   "metadata": {},
   "outputs": [
    {
     "name": "stdout",
     "output_type": "stream",
     "text": [
      "[[1 2 3]\n",
      " [4 5 6]]\n",
      "[25, 2, 3]\n",
      "[1, 2, 3]\n"
     ]
    }
   ],
   "source": [
    "#Create your first 2 dimensionnal arry\n",
    "arr = np.array([[1,2,3], [4,5,6]])\n",
    "print(arr)\n",
    "#the copy and the view\n",
    "list1 = [1,2,3]\n",
    "list2 = list1.copy()\n",
    "list2[0] = 25\n",
    "print(list2)\n",
    "print(list1)"
   ]
  },
  {
   "cell_type": "code",
   "execution_count": 6,
   "metadata": {},
   "outputs": [
    {
     "name": "stdout",
     "output_type": "stream",
     "text": [
      "[25  2  3  4  5]\n",
      "[25  2  3  4  5]\n",
      "[100   2   3   4   5]\n"
     ]
    }
   ],
   "source": [
    "#the copy and the view\n",
    "arr1 = np.array([1,2,3,4,5])\n",
    "arr2 = arr1.view()\n",
    "arr3 = arr1.copy()\n",
    "arr2[0] = 25\n",
    "arr3[0] = 100\n",
    "print(arr1)\n",
    "print(arr2)\n",
    "print(arr3)"
   ]
  },
  {
   "cell_type": "code",
   "execution_count": 7,
   "metadata": {},
   "outputs": [
    {
     "name": "stdout",
     "output_type": "stream",
     "text": [
      "(2, 3)\n",
      "[[1 2 3]\n",
      " [4 5 6]]\n"
     ]
    }
   ],
   "source": [
    "#The shape of an array\n",
    "arr = np.array([[1,2,3], [4,5,6]])\n",
    "print(arr.shape)\n",
    "print(arr)"
   ]
  },
  {
   "cell_type": "code",
   "execution_count": 8,
   "metadata": {},
   "outputs": [
    {
     "name": "stdout",
     "output_type": "stream",
     "text": [
      "(6,)\n",
      "[1 2 3 4 5 6]\n",
      "(3, 2)\n",
      "[[1 2]\n",
      " [3 4]\n",
      " [5 6]]\n"
     ]
    }
   ],
   "source": [
    "#reshape your array from 1D to 2D\n",
    "arr1 = np.array([1,2,3,4,5,6])\n",
    "print(arr1.shape)\n",
    "print(arr1)\n",
    "arr1 = arr1.reshape((3,2))\n",
    "print(arr1.shape)\n",
    "print(arr1)"
   ]
  },
  {
   "cell_type": "code",
   "execution_count": 9,
   "metadata": {},
   "outputs": [
    {
     "name": "stdout",
     "output_type": "stream",
     "text": [
      "(6,)\n",
      "[1 2 3 4 5 6]\n",
      "(3, 2)\n",
      "[[1 2]\n",
      " [3 4]\n",
      " [5 6]]\n"
     ]
    }
   ],
   "source": [
    "#reshape your array from 1D to another D (with -1)\n",
    "arr1 = np.array([1,2,3,4,5,6])\n",
    "print(arr1.shape)\n",
    "print(arr1)\n",
    "arr1 = arr1.reshape((-1,2))\n",
    "print(arr1.shape)\n",
    "print(arr1)"
   ]
  },
  {
   "cell_type": "code",
   "execution_count": 10,
   "metadata": {},
   "outputs": [
    {
     "name": "stdout",
     "output_type": "stream",
     "text": [
      "(6,)\n",
      "[1 2 3 4 5 6]\n",
      "(6, 1)\n",
      "[[1]\n",
      " [2]\n",
      " [3]\n",
      " [4]\n",
      " [5]\n",
      " [6]]\n"
     ]
    }
   ],
   "source": [
    "#from line to column\n",
    "arr1 = np.array([1,2,3,4,5,6])\n",
    "print(arr1.shape)\n",
    "print(arr1)\n",
    "arr1 = arr1.reshape((-1,1))\n",
    "print(arr1.shape)\n",
    "print(arr1)"
   ]
  },
  {
   "cell_type": "code",
   "execution_count": 11,
   "metadata": {},
   "outputs": [
    {
     "name": "stdout",
     "output_type": "stream",
     "text": [
      "[3 4 5]\n",
      "[2 4 6]\n"
     ]
    }
   ],
   "source": [
    "#The avantage of numpy, the use of array for addition or multiplication for example\n",
    "l1 = [1,2,3]\n",
    "l1 = np.array(l1)\n",
    "print(l1 + 2)\n",
    "#\n",
    "l1 = [1,2,3]\n",
    "l1 = np.array(l1)\n",
    "print(l1 * 2)"
   ]
  },
  {
   "cell_type": "code",
   "execution_count": 13,
   "metadata": {},
   "outputs": [
    {
     "name": "stdout",
     "output_type": "stream",
     "text": [
      "[[ 1  5]\n",
      " [ 9 31]\n",
      " [45 78]]\n"
     ]
    }
   ],
   "source": [
    "#YOUR TURN (5 minutes)\n",
    "#Change this array [1,5,9,31,45,78]\n",
    "#into this one:\n",
    "#[[1,5],\n",
    "#[9,31],\n",
    "#[45,78]]\n",
    "#It should be a copy not a view\n",
    "arr = np.array([1,5,9,31,45,78])\n",
    "arr = arr.reshape((3,2))\n",
    "print(arr)"
   ]
  },
  {
   "cell_type": "code",
   "execution_count": 14,
   "metadata": {},
   "outputs": [
    {
     "name": "stdout",
     "output_type": "stream",
     "text": [
      "[1, 2.1, 3.5, 3.9, 5.3, 6]\n",
      "[1.  2.1 3.5 3.9 5.3 6. ]\n",
      "[[1. ]\n",
      " [2.1]\n",
      " [3.5]\n",
      " [3.9]\n",
      " [5.3]\n",
      " [6. ]]\n",
      "[8, 9, 10, 11, 12, 13]\n",
      "[ 8  9 10 11 12 13]\n",
      "[[ 8]\n",
      " [ 9]\n",
      " [10]\n",
      " [11]\n",
      " [12]\n",
      " [13]]\n"
     ]
    }
   ],
   "source": [
    "#Transformation of data in the requiered array for scikit-learn\n",
    "x = [1, 2.1, 3.5, 3.9, 5.3, 6]\n",
    "print(x)\n",
    "x = np.array(x)\n",
    "print(x)\n",
    "x = x.reshape((-1,1))\n",
    "print(x)\n",
    "\n",
    "y = [8,9,10,11,12,13]\n",
    "print(y)\n",
    "y = np.array(y)\n",
    "print(y)\n",
    "y = y.reshape((-1,1))\n",
    "print(y)"
   ]
  },
  {
   "cell_type": "markdown",
   "metadata": {},
   "source": [
    "## The linear regression"
   ]
  },
  {
   "cell_type": "code",
   "execution_count": 16,
   "metadata": {},
   "outputs": [],
   "source": [
    "#Create a linear regression model: LinearRegression()\n",
    "model = skmod.LinearRegression()\n",
    "#some parameters than you can change:\n",
    "#fit_intercept (consider b=0 if False, default is True)"
   ]
  },
  {
   "cell_type": "code",
   "execution_count": 17,
   "metadata": {},
   "outputs": [],
   "source": [
    "#Train your model\n",
    "model_trained = model.fit(x, y)"
   ]
  },
  {
   "cell_type": "code",
   "execution_count": 18,
   "metadata": {},
   "outputs": [
    {
     "name": "stdout",
     "output_type": "stream",
     "text": [
      "[6.91851296]\n",
      "[[0.98573038]]\n",
      "0.9857303792714982\n"
     ]
    }
   ],
   "source": [
    "#get the result: the intercept (b)(.intercept_), the coeff (w1)(.coef_) and the R2 (.score(x, y))\n",
    "#get b value\n",
    "print(model.intercept_)\n",
    "#get the coef : the w1 value\n",
    "print(model.coef_)\n",
    "#get the accuracy with R2\n",
    "print(model.score(x, y))"
   ]
  },
  {
   "cell_type": "code",
   "execution_count": 19,
   "metadata": {},
   "outputs": [
    {
     "data": {
      "text/plain": [
       "[<matplotlib.lines.Line2D at 0x24f27d8d840>]"
      ]
     },
     "execution_count": 19,
     "metadata": {},
     "output_type": "execute_result"
    },
    {
     "data": {
      "image/png": "[encoded data removed]",
      "text/plain": [
       "<Figure size 640x480 with 1 Axes>"
      ]
     },
     "metadata": {},
     "output_type": "display_data"
    }
   ],
   "source": [
    "import matplotlib.pyplot as plt\n",
    "plt.scatter(x, y)\n",
    "x_model = [0, 6]\n",
    "y_model = [0.98573038 * 0 + 6.91851296, 0.98573038 * 6 + 6.91851296]\n",
    "#graphic\n",
    "plt.plot(x_model, y_model)"
   ]
  },
  {
   "cell_type": "code",
   "execution_count": 20,
   "metadata": {},
   "outputs": [
    {
     "name": "stdout",
     "output_type": "stream",
     "text": [
      "[[ 6.91851296]\n",
      " [12.83289523]]\n"
     ]
    }
   ],
   "source": [
    "#Now use your model to predict data (.predict(x))\n",
    "x_model = np.array([0,6]).reshape(-1,1)\n",
    "print(model.predict(x_model))"
   ]
  },
  {
   "cell_type": "code",
   "execution_count": 21,
   "metadata": {},
   "outputs": [
    {
     "name": "stdout",
     "output_type": "stream",
     "text": [
      "[6.91851296, 12.83289524]\n"
     ]
    }
   ],
   "source": [
    "#Predict the result without predict but with intercept and coeff\n",
    "x_model = [0, 6]\n",
    "y_model = [0.98573038 * 0 + 6.91851296, 0.98573038 * 6 + 6.91851296]\n",
    "print(y_model)"
   ]
  },
  {
   "cell_type": "markdown",
   "metadata": {},
   "source": [
    "## LECTURE 10"
   ]
  },
  {
   "cell_type": "code",
   "execution_count": 27,
   "metadata": {},
   "outputs": [],
   "source": [
    "#YOUR TURN (15 minutes)\n",
    "#Use the folowwing data to create a linear regression model and train it:\n",
    "# feature 1 | Label\n",
    "#--------------------\n",
    "#   25      |   80\n",
    "#   100     |   254\n",
    "#   30      |   152\n",
    "#   5       |   4\n",
    "#   85      |   271\n",
    "\n",
    "#The coeff use to preduce data was 2,56 and the intercept was 23\n",
    "#How close are you (How high is the score)?\n",
    "#Draw the graph of the datas and your prediction"
   ]
  },
  {
   "cell_type": "code",
   "execution_count": 28,
   "metadata": {},
   "outputs": [
    {
     "name": "stdout",
     "output_type": "stream",
     "text": [
      "[[2.6183161]]\n",
      "[23.90251108]\n",
      "0.8985431805527473\n",
      "[[ 23.90251108]\n",
      " [285.73412112]]\n"
     ]
    },
    {
     "data": {
      "text/plain": [
       "[<matplotlib.lines.Line2D at 0x24f27e6b850>]"
      ]
     },
     "execution_count": 28,
     "metadata": {},
     "output_type": "execute_result"
    },
    {
     "data": {
      "image/png": "[encoded data removed]",
      "text/plain": [
       "<Figure size 640x480 with 1 Axes>"
      ]
     },
     "metadata": {},
     "output_type": "display_data"
    }
   ],
   "source": [
    "arr_x = np.array([25, 100, 30, 5, 85]).reshape(-1,1)\n",
    "arr_y = np.array([80, 254, 152, 4, 271]).reshape(-1,1)\n",
    "model = skmod.LinearRegression()\n",
    "model = model.fit(arr_x, arr_y)\n",
    "print(model.coef_)\n",
    "print(model.intercept_)\n",
    "print(model.score(arr_x, arr_y))\n",
    "plt.scatter(arr_x, arr_y)\n",
    "print(model.predict(np.array([0,100]).reshape(-1,1)))\n",
    "plt.plot([0, 100], model.predict(np.array([0,100]).reshape(-1,1)))\n",
    "plt.plot([0, 100], [23.9, 285])"
   ]
  },
  {
   "cell_type": "markdown",
   "metadata": {},
   "source": [
    "## For multiple dimension"
   ]
  },
  {
   "cell_type": "code",
   "execution_count": 29,
   "metadata": {},
   "outputs": [
    {
     "data": {
      "text/plain": [
       "<matplotlib.collections.PathCollection at 0x24f2b12f280>"
      ]
     },
     "execution_count": 29,
     "metadata": {},
     "output_type": "execute_result"
    },
    {
     "data": {
      "image/png": "[encoded data removed]",
      "text/plain": [
       "<Figure size 640x480 with 1 Axes>"
      ]
     },
     "metadata": {},
     "output_type": "display_data"
    }
   ],
   "source": [
    "#Our datas: the students work\n",
    "x1 = [9, 10, 16, 22, 17, 7, 10, 24, 15]\n",
    "x2 = [14, 18, 1, 22, 6, 12, 4, 28, 22]\n",
    "y = [42.8, 48.8, 36.8, 81.1, 44.8, 32.4, 28.8, 100, 73.1]\n",
    "\n",
    "#Draw the data in 2d with colors\n",
    "plt.scatter(x1, x2, c = y, cmap = 'Reds')"
   ]
  },
  {
   "cell_type": "code",
   "execution_count": 30,
   "metadata": {},
   "outputs": [
    {
     "data": {
      "text/plain": [
       "<mpl_toolkits.mplot3d.art3d.Path3DCollection at 0x24f2b1c95a0>"
      ]
     },
     "execution_count": 30,
     "metadata": {},
     "output_type": "execute_result"
    },
    {
     "data": {
      "image/png": "[encoded data removed]",
      "text/plain": [
       "<Figure size 640x480 with 1 Axes>"
      ]
     },
     "metadata": {},
     "output_type": "display_data"
    }
   ],
   "source": [
    "#Draw in 3D\n",
    "ax = plt.subplot(projection='3d')\n",
    "ax.scatter(x1, x2, y)"
   ]
  },
  {
   "cell_type": "code",
   "execution_count": 31,
   "metadata": {},
   "outputs": [
    {
     "name": "stdout",
     "output_type": "stream",
     "text": [
      "[[ 9 14]\n",
      " [10 18]\n",
      " [16  1]\n",
      " [22 22]\n",
      " [17  6]\n",
      " [ 7 12]\n",
      " [10  4]\n",
      " [24 28]\n",
      " [15 22]]\n"
     ]
    }
   ],
   "source": [
    "#Transform our data for scikit-learn\n",
    "arr_x1 = np.array(x1).reshape(-1,1)\n",
    "arr_x2 = np.array(x2).reshape(-1,1)\n",
    "arr_y = np.array(y).reshape(-1,1)\n",
    "# print(arr_x1)\n",
    "arr_x = np.hstack([arr_x1, arr_x2])\n",
    "print(arr_x)"
   ]
  },
  {
   "cell_type": "code",
   "execution_count": 32,
   "metadata": {},
   "outputs": [],
   "source": [
    "#create and train the model\n",
    "model = skmod.LinearRegression()\n",
    "model_trained = model.fit(arr_x, arr_y)"
   ]
  },
  {
   "cell_type": "code",
   "execution_count": 33,
   "metadata": {},
   "outputs": [
    {
     "name": "stdout",
     "output_type": "stream",
     "text": [
      "[[ 5  6]\n",
      " [ 6 18]]\n",
      "[[19.6905668 ]\n",
      " [42.17289697]]\n"
     ]
    }
   ],
   "source": [
    "#use the model for prediction\n",
    "arr_pred = np.array([[5, 6], [6, 18]])\n",
    "print(arr_pred)\n",
    "print(model_trained.predict(arr_pred))"
   ]
  },
  {
   "cell_type": "markdown",
   "metadata": {},
   "source": [
    "## The polynomial regression\n"
   ]
  },
  {
   "cell_type": "code",
   "execution_count": 34,
   "metadata": {},
   "outputs": [],
   "source": [
    "#Remember: A polynomial regression of degree two is just \n",
    "#a linear regression with two features where the second feature\n",
    "#is the square of the first one"
   ]
  },
  {
   "cell_type": "code",
   "execution_count": 35,
   "metadata": {},
   "outputs": [
    {
     "name": "stdout",
     "output_type": "stream",
     "text": [
      "[10.5625, 0.6658559999999999, 19.149376000000004, 1.7265960000000002, 15.856324000000003, 8.743848999999999, 6.160324000000001, 13.690000000000001]\n"
     ]
    }
   ],
   "source": [
    "#Our data: the number of goats\n",
    "alt = [3.25, 0.816, 4.376, 1.314, 3.982, 2.957, 2.482, 3.7]\n",
    "n_goats = [21, 22, 13, 25, 17, 23, 23, 27]\n",
    "\n",
    "#The simplest way to do it: the square method\n",
    "alt_sq = []\n",
    "for i in alt:\n",
    "    alt_sq.append(i**2)\n",
    "print(alt_sq)\n"
   ]
  },
  {
   "cell_type": "code",
   "execution_count": 36,
   "metadata": {},
   "outputs": [],
   "source": [
    "#CReate the arrays\n",
    "arr_x = np.array(alt).reshape(-1,1)\n",
    "arr_x2 = np.array(alt_sq).reshape(-1,1)\n",
    "arr_X = np.hstack([arr_x, arr_x2])\n",
    "arr_y = np.array(n_goats).reshape(-1,1)"
   ]
  },
  {
   "cell_type": "code",
   "execution_count": 37,
   "metadata": {},
   "outputs": [],
   "source": [
    "#Create the model and train it\n",
    "model = skmod.LinearRegression()\n",
    "model = model.fit(arr_X, arr_y)"
   ]
  },
  {
   "cell_type": "code",
   "execution_count": 38,
   "metadata": {},
   "outputs": [
    {
     "name": "stdout",
     "output_type": "stream",
     "text": [
      "[[ 8.23020929 -1.96652729]]\n",
      "[16.6580818]\n"
     ]
    }
   ],
   "source": [
    "#show the coefficients\n",
    "print(model.coef_)\n",
    "print(model.intercept_)\n",
    "#equation: y' = 8.23*x -1.9665 * x^2 + 16.65"
   ]
  },
  {
   "cell_type": "code",
   "execution_count": 39,
   "metadata": {},
   "outputs": [],
   "source": [
    "#create data for model\n",
    "model_x = list(np.arange(0,6,0.1))\n",
    "model_y = []\n",
    "for i in model_x:\n",
    "    model_y.append(model.predict(np.array([[i, i**2]]))[0])"
   ]
  },
  {
   "cell_type": "code",
   "execution_count": 40,
   "metadata": {},
   "outputs": [
    {
     "name": "stdout",
     "output_type": "stream",
     "text": [
      "[[6.05253902 2.55824485]]\n",
      "[-6.15443798]\n"
     ]
    }
   ],
   "source": [
    "#YOUR TURN (15 minutes)\n",
    "#Find the link between these values (use linear and polynomial regression)\n",
    "#\n",
    "# feature  Label\n",
    "# 13       505\n",
    "# 3        35\n",
    "# 17       836\n",
    "# 0        -6\n",
    "# 2         16\n",
    "#The equation used is 2,56*x^2 + x*6 -6, \n",
    "#Can you find it with your regression?\n",
    "\n",
    "x = [13, 3, 17, 0, 2]\n",
    "y = [505, 35, 836, -6, 16]\n",
    "x2 = []\n",
    "for i in x:\n",
    "    x2.append(i**2)\n",
    "x_arr = np.array(x).reshape(-1,1)\n",
    "x2_arr = np.array(x2).reshape(-1,1)\n",
    "y_arr = np.array(y).reshape(-1,1)\n",
    "X = np.hstack([x_arr, x2_arr])\n",
    "model = skmod.LinearRegression()\n",
    "model = model.fit(X, y_arr)\n",
    "print(model.coef_)\n",
    "print(model.intercept_)"
   ]
  },
  {
   "cell_type": "code",
   "execution_count": 41,
   "metadata": {},
   "outputs": [
    {
     "name": "stdout",
     "output_type": "stream",
     "text": [
      "[[49.61061947]]\n",
      "[-70.07433628]\n"
     ]
    }
   ],
   "source": [
    "#Let's show the difference with a linear regression - make the linear model\n",
    "model_lin = skmod.LinearRegression()\n",
    "model_lin = model_lin.fit(x_arr, y_arr)\n",
    "\n",
    "#show the linear model's equations\n",
    "print(model_lin.coef_)\n",
    "print(model_lin.intercept_)\n",
    "\n",
    "#create model x and y\n",
    "model_x = np.arange(0,20,0.1)\n",
    "model_y = 2.56*model_x**2 + 6*model_x -6"
   ]
  },
  {
   "cell_type": "code",
   "execution_count": 42,
   "metadata": {},
   "outputs": [
    {
     "data": {
      "text/plain": [
       "[<matplotlib.lines.Line2D at 0x24f2b273850>]"
      ]
     },
     "execution_count": 42,
     "metadata": {},
     "output_type": "execute_result"
    },
    {
     "data": {
      "image/png": "[encoded data removed]",
      "text/plain": [
       "<Figure size 640x480 with 1 Axes>"
      ]
     },
     "metadata": {},
     "output_type": "display_data"
    }
   ],
   "source": [
    "#draw the datas, the linear and polynomial model on the same graph\n",
    "plt.scatter(x_arr, y_arr)\n",
    "plt.plot(model_x, model_y)\n",
    "plt.plot([0,20], model_lin.predict(np.array([[0], [20]])))"
   ]
  },
  {
   "cell_type": "markdown",
   "metadata": {},
   "source": [
    "## Lecture 11\n"
   ]
  },
  {
   "cell_type": "code",
   "execution_count": 47,
   "metadata": {},
   "outputs": [
    {
     "name": "stdout",
     "output_type": "stream",
     "text": [
      "[[1]\n",
      " [2]\n",
      " [3]\n",
      " [4]\n",
      " [5]\n",
      " [6]]\n",
      "[[ 1.  1.]\n",
      " [ 2.  4.]\n",
      " [ 3.  9.]\n",
      " [ 4. 16.]\n",
      " [ 5. 25.]\n",
      " [ 6. 36.]]\n"
     ]
    }
   ],
   "source": [
    "#Create data and reshape it\n",
    "x = [1, 2, 3, 4, 5, 6]\n",
    "x = np.array(x).reshape(-1,1)\n",
    "print(x)\n",
    "\n",
    "#Create the polynomial feature object from the preprocessing module\n",
    "#PolynomialFeatures() function\n",
    "#choose the degree and don't include bias\n",
    "poly2 = skprepro.PolynomialFeatures(2, include_bias = False)\n",
    "\n",
    "#Transform your data into features of degree two, fit_transform() function\n",
    "x = poly2.fit_transform(x)\n",
    "print(x)"
   ]
  },
  {
   "cell_type": "code",
   "execution_count": 49,
   "metadata": {},
   "outputs": [
    {
     "name": "stdout",
     "output_type": "stream",
     "text": [
      "[[49.10205127]]\n"
     ]
    }
   ],
   "source": [
    "#From the data of practice, make a polynomial regression of degree 4\n",
    "#print the prediction of the model for x = 2.2\n",
    "x= [6,10,2,3,4,0,7,8,9,1]\n",
    "y = [130,21,43,76,105,3,167,162,91,15]\n",
    "x = np.array(x).reshape(-1,1)\n",
    "y = np.array(y).reshape(-1,1)\n",
    "poly2 = skprepro.PolynomialFeatures(4, include_bias = False)\n",
    "model = skmod.LinearRegression().fit(poly2.fit_transform(x), y)\n",
    "print(model.predict(poly2.fit_transform(np.array([[2.2]]))))\n"
   ]
  },
  {
   "cell_type": "code",
   "execution_count": 54,
   "metadata": {},
   "outputs": [
    {
     "data": {
      "text/plain": [
       "<matplotlib.collections.PathCollection at 0x24f2b2e61d0>"
      ]
     },
     "execution_count": 54,
     "metadata": {},
     "output_type": "execute_result"
    },
    {
     "data": {
      "image/png": "[encoded data removed]",
      "text/plain": [
       "<Figure size 640x480 with 1 Axes>"
      ]
     },
     "metadata": {},
     "output_type": "display_data"
    }
   ],
   "source": [
    "#choose a test and train set with scikit-learn:\n",
    "#import sklearn.model_selection and use the train_test_split() function\n",
    "#The order is train/test, train/test\n",
    "import matplotlib.pyplot as plt\n",
    "import sklearn.model_selection as sksel\n",
    "\n",
    "data_x_train, data_x_test, data_y_train, data_y_test = sksel.train_test_split(data_x,\n",
    "                                                                              data_y,\n",
    "                                                                             train_size = 0.80,\n",
    "                                                                             shuffle = True)\n",
    "\n",
    "plt.scatter(data_x_train, data_y_train)\n",
    "plt.scatter(data_x_test, data_y_test)"
   ]
  },
  {
   "cell_type": "markdown",
   "metadata": {},
   "source": [
    "### The scikit-learn object"
   ]
  },
  {
   "cell_type": "code",
   "execution_count": 56,
   "metadata": {},
   "outputs": [
    {
     "name": "stdout",
     "output_type": "stream",
     "text": [
      "[14384 14001 12248 13015 14714 13557 11968 10262 14304 16132 19784 12607\n",
      " 10912 15791 11381 13306 10307 17026 13224 15766]\n",
      "[86 67 69 96 62 79 18 48 82 92 85 67 22 89 63 94  8 37 20 60]\n",
      "[[14384    86]\n",
      " [14001    67]\n",
      " [12248    69]\n",
      " [13015    96]\n",
      " [14714    62]\n",
      " [13557    79]\n",
      " [11968    18]\n",
      " [10262    48]\n",
      " [14304    82]\n",
      " [16132    92]]\n",
      "[[ 0.27924066  0.87658912]\n",
      " [ 0.11458948  0.17679108]\n",
      " [-0.63902284  0.25045403]\n",
      " [-0.30929058  1.24490388]\n",
      " [ 0.42110722 -0.0073663 ]\n",
      " [-0.07628551  0.61876879]\n",
      " [-0.75939446 -1.62795122]\n",
      " [-1.49280155 -0.52300695]\n",
      " [ 0.24484877  0.72926322]\n",
      " [ 1.03070349  1.09757797]]\n"
     ]
    }
   ],
   "source": [
    "#Create two features with different size with random (use function np.random.randint())\n",
    "data_x1 = np.random.randint(10000, 20000, size = (20))\n",
    "data_x2 = np.random.randint(0, 100, size = (20))\n",
    "print(data_x1)\n",
    "print(data_x2)\n",
    "\n",
    "#Create the scaler object StandardScaler() object \n",
    "import sklearn.preprocessing as skprepro\n",
    "scaler_standard = skprepro.StandardScaler()\n",
    "\n",
    "\n",
    "#prepare our data: 2 columns because 2 features\n",
    "data_x1 = data_x1.reshape(-1,1)\n",
    "data_x2 = data_x2.reshape(-1,1)\n",
    "data_x = np.hstack([data_x1, data_x2])\n",
    "\n",
    "label =  np.random.randint(0, 100, size = (20))\n",
    "\n",
    "#use it on your data with the fit_transform()\n",
    "data_x_stan = scaler_standard.fit_transform(data_x)\n",
    "print(data_x[:10])\n",
    "print(data_x_stan[:10])"
   ]
  },
  {
   "cell_type": "code",
   "execution_count": 57,
   "metadata": {},
   "outputs": [
    {
     "name": "stdout",
     "output_type": "stream",
     "text": [
      "[[13967.06296928    64.91506906]]\n"
     ]
    }
   ],
   "source": [
    "#Use inverse_transform method to come back for standardized data to real data\n",
    "print(scaler_standard.inverse_transform([[0.1, 0.1]]))"
   ]
  },
  {
   "cell_type": "code",
   "execution_count": 58,
   "metadata": {},
   "outputs": [
    {
     "name": "stdout",
     "output_type": "stream",
     "text": [
      "[[ 2.200000e+01  1.489022e+06 -9.967000e+01]\n",
      " [ 8.500000e+01  1.073767e+06 -9.937000e+01]\n",
      " [ 9.600000e+01  1.975250e+06 -9.908000e+01]\n",
      " [ 8.100000e+01  1.493073e+06 -9.954000e+01]\n",
      " [ 6.800000e+01  1.063635e+06 -9.980000e+01]\n",
      " [ 9.700000e+01  1.017921e+06 -9.921000e+01]\n",
      " [ 2.900000e+01  1.206827e+06 -9.973000e+01]\n",
      " [ 6.100000e+01  1.217274e+06 -9.978000e+01]\n",
      " [ 7.300000e+01  1.933018e+06 -9.960000e+01]\n",
      " [ 8.600000e+01  1.325618e+06 -9.948000e+01]]\n",
      "[[-1.93765385  0.33481781 -0.62382688]\n",
      " [ 0.61615771 -0.93512067  0.67581245]\n",
      " [ 1.06206131  1.82180687  1.93213047]\n",
      " [ 0.45401094  0.34720663 -0.06064984]\n",
      " [-0.07296604 -0.96610649 -1.18700392]\n",
      " [ 1.10259801 -1.10590966  1.36895343]\n",
      " [-1.65389701 -0.52819477 -0.88375474]\n",
      " [-0.35672288 -0.49624561 -1.1003613 ]\n",
      " [ 0.12971741  1.6926524  -0.3205777 ]\n",
      " [ 0.6566944  -0.16490652  0.19927803]]\n",
      "[[ 2.200000e+01  1.489022e+06 -9.967000e+01]\n",
      " [ 8.500000e+01  1.073767e+06 -9.937000e+01]\n",
      " [ 9.600000e+01  1.975250e+06 -9.908000e+01]\n",
      " [ 8.100000e+01  1.493073e+06 -9.954000e+01]\n",
      " [ 6.800000e+01  1.063635e+06 -9.980000e+01]\n",
      " [ 9.700000e+01  1.017921e+06 -9.921000e+01]\n",
      " [ 2.900000e+01  1.206827e+06 -9.973000e+01]\n",
      " [ 6.100000e+01  1.217274e+06 -9.978000e+01]\n",
      " [ 7.300000e+01  1.933018e+06 -9.960000e+01]\n",
      " [ 8.600000e+01  1.325618e+06 -9.948000e+01]]\n"
     ]
    }
   ],
   "source": [
    "#YOUR TURN (10 minutes)\n",
    "#On the file in Teams (use copy past to transfer it in python), \n",
    "#tranform the three lists in a 10*3 matrix of standardized features\n",
    "l1 = [22, 85, 96, 81, 68, 97, 29, 61, 73, 86]\n",
    "l2 = [1489022, 1073767, 1975250, 1493073, 1063635, 1017921, 1206827, 1217274, 1933018, 1325618]\n",
    "l3 = [-99.67, -99.37, -99.08, -99.54, -99.8, -99.21, -99.73, -99.78, -99.6, -99.48]\n",
    "l4 = [-182, -254.3,  -71  , -172, -261 , -262, -237, -231, -85, -204]\n",
    "#76 crosses / 52 students\n",
    "l1 = np.array(l1).reshape(-1,1)\n",
    "l2 = np.array(l2).reshape(-1,1)\n",
    "l3 = np.array(l3).reshape(-1,1)\n",
    "L = np.hstack([l1, l2, l3])\n",
    "print(L)\n",
    "scaler = skprepro.StandardScaler()\n",
    "L = scaler.fit_transform(L)\n",
    "print(L)\n",
    "print(scaler.inverse_transform(L))"
   ]
  },
  {
   "cell_type": "code",
   "execution_count": 59,
   "metadata": {},
   "outputs": [
    {
     "name": "stdout",
     "output_type": "stream",
     "text": [
      "[1448.41304651]\n"
     ]
    }
   ],
   "source": [
    "#YOUR TURN (5 minutes)\n",
    "#Make a linear regression with the three features (l1, l2 and l3) and the label (l4)\n",
    "#with standardized features\n",
    "# what is the prediction of both model for fatures: [30, 1600000, -99.5]\n",
    "model = skmod.LinearRegression().fit(L, l4)\n",
    "print(model.predict(scaler.transform(np.array([[10000, 10, -10]]))))"
   ]
  }
 ],
 "metadata": {
  "kernelspec": {
   "display_name": "Python 3.9.10 64-bit",
   "language": "python",
   "name": "python3"
  },
  "language_info": {
   "codemirror_mode": {
    "name": "ipython",
    "version": 3
   },
   "file_extension": ".py",
   "mimetype": "text/x-python",
   "name": "python",
   "nbconvert_exporter": "python",
   "pygments_lexer": "ipython3",
   "version": "3.9.10"
  },
  "orig_nbformat": 4,
  "vscode": {
   "interpreter": {
    "hash": "fbe58ca63fe33f9eeae9e71d10368d2b4a57f2b1b395836210cc60d362c66949"
   }
  }
 },
 "nbformat": 4,
 "nbformat_minor": 2
}
